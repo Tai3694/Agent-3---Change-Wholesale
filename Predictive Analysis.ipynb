{
 "cells": [
  {
   "cell_type": "code",
   "execution_count": 1,
   "id": "2c080426",
   "metadata": {},
   "outputs": [],
   "source": [
    "#Import packages\n",
    "import numpy as np\n",
    "import pandas as pd\n",
    "import matplotlib.pyplot as plt\n",
    "import seaborn as sns\n",
    "import statsmodels.api as sm \n",
    "from statsmodels.formula.api import ols"
   ]
  },
  {
   "cell_type": "code",
   "execution_count": 2,
   "id": "f3d32234",
   "metadata": {},
   "outputs": [],
   "source": [
    "#Read excel file from the current working directory\n",
    "#Uploaded the cleaneded data done already in excel - that is changing spend data to correct format\n",
    "CD = pd.read_excel('CC#2.xlsx')"
   ]
  },
  {
   "cell_type": "code",
   "execution_count": 3,
   "id": "29035c7b",
   "metadata": {},
   "outputs": [
    {
     "name": "stdout",
     "output_type": "stream",
     "text": [
      "<class 'pandas.core.frame.DataFrame'>\n",
      "RangeIndex: 98094 entries, 0 to 98093\n",
      "Data columns (total 20 columns):\n",
      " #   Column                   Non-Null Count  Dtype         \n",
      "---  ------                   --------------  -----         \n",
      " 0   Campaign                 98022 non-null  object        \n",
      " 1   Ad Format                98023 non-null  object        \n",
      " 2   Clicks                   86217 non-null  float64       \n",
      " 3   Spend                    98094 non-null  float64       \n",
      " 4   Creative - Size          69695 non-null  object        \n",
      " 5   Date                     98094 non-null  datetime64[ns]\n",
      " 6   Impressions              98094 non-null  int64         \n",
      " 7   Reach                    77500 non-null  float64       \n",
      " 8   Audience                 98053 non-null  object        \n",
      " 9   Platform                 98094 non-null  object        \n",
      " 10  Creative - Family        97211 non-null  object        \n",
      " 11  Creative - Version       97569 non-null  object        \n",
      " 12  100% Video Views         24258 non-null  float64       \n",
      " 13  Video Starts             25271 non-null  float64       \n",
      " 14  Follows                  8400 non-null   float64       \n",
      " 15  Days away from max date  98094 non-null  int64         \n",
      " 16  Latest report?           98094 non-null  int64         \n",
      " 17  CTR                      85265 non-null  float64       \n",
      " 18  CTR Score                71044 non-null  float64       \n",
      " 19  Weighted CTR Score       71044 non-null  float64       \n",
      "dtypes: datetime64[ns](1), float64(9), int64(3), object(7)\n",
      "memory usage: 15.0+ MB\n"
     ]
    }
   ],
   "source": [
    "#View DataFrame\n",
    "CD.info()"
   ]
  },
  {
   "cell_type": "code",
   "execution_count": 4,
   "id": "f240ffb4",
   "metadata": {},
   "outputs": [
    {
     "name": "stdout",
     "output_type": "stream",
     "text": [
      "           Campaign     Ad Format  Clicks  Spend Creative - Size       Date  \\\n",
      "0              FY22  Single image     0.0   0.26             NaN 2022-05-19   \n",
      "1              FY22  Single image     0.0   0.15             NaN 2022-05-19   \n",
      "2              FY22  Single image     0.0   0.38             NaN 2022-05-19   \n",
      "3              FY22  Single image     0.0   0.19             NaN 2022-05-19   \n",
      "4              FY22  Single image     1.0   3.62             NaN 2022-05-19   \n",
      "...             ...           ...     ...    ...             ...        ...   \n",
      "98089          ESPN            TV     NaN   0.10             NaN 2022-05-01   \n",
      "98090           MTV            TV     NaN   0.17             NaN 2022-05-01   \n",
      "98091  Food Network            TV     NaN   0.14             NaN 2022-05-01   \n",
      "98092    Nat Geo TV            TV     NaN   0.58             NaN 2022-05-01   \n",
      "98093         Pluto            TV     NaN   7.14             NaN 2022-05-01   \n",
      "\n",
      "       Impressions  Reach            Audience   Platform Creative - Family  \\\n",
      "0              119   63.0                   1   Facebook       CloseFaster   \n",
      "1                9    8.0                   1  Instagram       CloseFaster   \n",
      "2               26   17.0                   1   Facebook       CloseFaster   \n",
      "3               12   10.0                   1  Instagram       CloseFaster   \n",
      "4              247  150.0                   1   Facebook       CloserTwins   \n",
      "...            ...    ...                 ...        ...               ...   \n",
      "98089            3    3.0  General Targetting        OTT       CloserTwins   \n",
      "98090            5    5.0  General Targetting        OTT       CloserTwins   \n",
      "98091            4    4.0  General Targetting        OTT       CloserTwins   \n",
      "98092           17   16.0  General Targetting        OTT       CloserTwins   \n",
      "98093          210  201.0  General Targetting        OTT       CloserTwins   \n",
      "\n",
      "      Creative - Version  100% Video Views  Video Starts  Follows  \\\n",
      "0                  NoDTI               NaN           NaN      NaN   \n",
      "1                  NoDTI               NaN           NaN      NaN   \n",
      "2                  NoDTI               NaN           NaN      NaN   \n",
      "3                  NoDTI               NaN           NaN      NaN   \n",
      "4              EarlyBird               NaN           NaN      NaN   \n",
      "...                  ...               ...           ...      ...   \n",
      "98089                15s               NaN           NaN      NaN   \n",
      "98090              15_QR               NaN           NaN      NaN   \n",
      "98091              15_QR               NaN           NaN      NaN   \n",
      "98092              15_QR               NaN           NaN      NaN   \n",
      "98093              15_QR               NaN           NaN      NaN   \n",
      "\n",
      "       Days away from max date  Latest report?       CTR  CTR Score  \\\n",
      "0                          165               0  0.000000        NaN   \n",
      "1                          165               0  0.000000        NaN   \n",
      "2                          165               0  0.000000        NaN   \n",
      "3                          165               0  0.000000        NaN   \n",
      "4                          165               0  0.004049        NaN   \n",
      "...                        ...             ...       ...        ...   \n",
      "98089                      183               0       NaN        NaN   \n",
      "98090                      183               0       NaN        NaN   \n",
      "98091                      183               0       NaN        NaN   \n",
      "98092                      183               0       NaN        NaN   \n",
      "98093                      183               0       NaN        NaN   \n",
      "\n",
      "       Weighted CTR Score  \n",
      "0                     NaN  \n",
      "1                     NaN  \n",
      "2                     NaN  \n",
      "3                     NaN  \n",
      "4                     NaN  \n",
      "...                   ...  \n",
      "98089                 NaN  \n",
      "98090                 NaN  \n",
      "98091                 NaN  \n",
      "98092                 NaN  \n",
      "98093                 NaN  \n",
      "\n",
      "[98094 rows x 20 columns]\n"
     ]
    }
   ],
   "source": [
    "print(CD)"
   ]
  },
  {
   "cell_type": "code",
   "execution_count": 5,
   "id": "97edddb9",
   "metadata": {},
   "outputs": [
    {
     "data": {
      "text/html": [
       "<div>\n",
       "<style scoped>\n",
       "    .dataframe tbody tr th:only-of-type {\n",
       "        vertical-align: middle;\n",
       "    }\n",
       "\n",
       "    .dataframe tbody tr th {\n",
       "        vertical-align: top;\n",
       "    }\n",
       "\n",
       "    .dataframe thead th {\n",
       "        text-align: right;\n",
       "    }\n",
       "</style>\n",
       "<table border=\"1\" class=\"dataframe\">\n",
       "  <thead>\n",
       "    <tr style=\"text-align: right;\">\n",
       "      <th></th>\n",
       "      <th>Campaign</th>\n",
       "      <th>Ad Format</th>\n",
       "      <th>Clicks</th>\n",
       "      <th>Spend</th>\n",
       "      <th>Creative - Size</th>\n",
       "      <th>Date</th>\n",
       "      <th>Impressions</th>\n",
       "      <th>Reach</th>\n",
       "      <th>Audience</th>\n",
       "      <th>Platform</th>\n",
       "      <th>Creative - Family</th>\n",
       "      <th>Creative - Version</th>\n",
       "      <th>100% Video Views</th>\n",
       "      <th>Video Starts</th>\n",
       "      <th>Follows</th>\n",
       "      <th>Days away from max date</th>\n",
       "      <th>Latest report?</th>\n",
       "      <th>CTR</th>\n",
       "      <th>CTR Score</th>\n",
       "      <th>Weighted CTR Score</th>\n",
       "    </tr>\n",
       "  </thead>\n",
       "  <tbody>\n",
       "    <tr>\n",
       "      <th>0</th>\n",
       "      <td>FY22</td>\n",
       "      <td>Single image</td>\n",
       "      <td>0.0</td>\n",
       "      <td>0.26</td>\n",
       "      <td>NaN</td>\n",
       "      <td>2022-05-19</td>\n",
       "      <td>119</td>\n",
       "      <td>63.0</td>\n",
       "      <td>1</td>\n",
       "      <td>Facebook</td>\n",
       "      <td>CloseFaster</td>\n",
       "      <td>NoDTI</td>\n",
       "      <td>NaN</td>\n",
       "      <td>NaN</td>\n",
       "      <td>NaN</td>\n",
       "      <td>165</td>\n",
       "      <td>0</td>\n",
       "      <td>0.000000</td>\n",
       "      <td>NaN</td>\n",
       "      <td>NaN</td>\n",
       "    </tr>\n",
       "    <tr>\n",
       "      <th>1</th>\n",
       "      <td>FY22</td>\n",
       "      <td>Single image</td>\n",
       "      <td>0.0</td>\n",
       "      <td>0.15</td>\n",
       "      <td>NaN</td>\n",
       "      <td>2022-05-19</td>\n",
       "      <td>9</td>\n",
       "      <td>8.0</td>\n",
       "      <td>1</td>\n",
       "      <td>Instagram</td>\n",
       "      <td>CloseFaster</td>\n",
       "      <td>NoDTI</td>\n",
       "      <td>NaN</td>\n",
       "      <td>NaN</td>\n",
       "      <td>NaN</td>\n",
       "      <td>165</td>\n",
       "      <td>0</td>\n",
       "      <td>0.000000</td>\n",
       "      <td>NaN</td>\n",
       "      <td>NaN</td>\n",
       "    </tr>\n",
       "    <tr>\n",
       "      <th>2</th>\n",
       "      <td>FY22</td>\n",
       "      <td>Single image</td>\n",
       "      <td>0.0</td>\n",
       "      <td>0.38</td>\n",
       "      <td>NaN</td>\n",
       "      <td>2022-05-19</td>\n",
       "      <td>26</td>\n",
       "      <td>17.0</td>\n",
       "      <td>1</td>\n",
       "      <td>Facebook</td>\n",
       "      <td>CloseFaster</td>\n",
       "      <td>NoDTI</td>\n",
       "      <td>NaN</td>\n",
       "      <td>NaN</td>\n",
       "      <td>NaN</td>\n",
       "      <td>165</td>\n",
       "      <td>0</td>\n",
       "      <td>0.000000</td>\n",
       "      <td>NaN</td>\n",
       "      <td>NaN</td>\n",
       "    </tr>\n",
       "    <tr>\n",
       "      <th>3</th>\n",
       "      <td>FY22</td>\n",
       "      <td>Single image</td>\n",
       "      <td>0.0</td>\n",
       "      <td>0.19</td>\n",
       "      <td>NaN</td>\n",
       "      <td>2022-05-19</td>\n",
       "      <td>12</td>\n",
       "      <td>10.0</td>\n",
       "      <td>1</td>\n",
       "      <td>Instagram</td>\n",
       "      <td>CloseFaster</td>\n",
       "      <td>NoDTI</td>\n",
       "      <td>NaN</td>\n",
       "      <td>NaN</td>\n",
       "      <td>NaN</td>\n",
       "      <td>165</td>\n",
       "      <td>0</td>\n",
       "      <td>0.000000</td>\n",
       "      <td>NaN</td>\n",
       "      <td>NaN</td>\n",
       "    </tr>\n",
       "    <tr>\n",
       "      <th>4</th>\n",
       "      <td>FY22</td>\n",
       "      <td>Single image</td>\n",
       "      <td>1.0</td>\n",
       "      <td>3.62</td>\n",
       "      <td>NaN</td>\n",
       "      <td>2022-05-19</td>\n",
       "      <td>247</td>\n",
       "      <td>150.0</td>\n",
       "      <td>1</td>\n",
       "      <td>Facebook</td>\n",
       "      <td>CloserTwins</td>\n",
       "      <td>EarlyBird</td>\n",
       "      <td>NaN</td>\n",
       "      <td>NaN</td>\n",
       "      <td>NaN</td>\n",
       "      <td>165</td>\n",
       "      <td>0</td>\n",
       "      <td>0.004049</td>\n",
       "      <td>NaN</td>\n",
       "      <td>NaN</td>\n",
       "    </tr>\n",
       "  </tbody>\n",
       "</table>\n",
       "</div>"
      ],
      "text/plain": [
       "  Campaign     Ad Format  Clicks  Spend Creative - Size       Date  \\\n",
       "0     FY22  Single image     0.0   0.26             NaN 2022-05-19   \n",
       "1     FY22  Single image     0.0   0.15             NaN 2022-05-19   \n",
       "2     FY22  Single image     0.0   0.38             NaN 2022-05-19   \n",
       "3     FY22  Single image     0.0   0.19             NaN 2022-05-19   \n",
       "4     FY22  Single image     1.0   3.62             NaN 2022-05-19   \n",
       "\n",
       "   Impressions  Reach Audience   Platform Creative - Family  \\\n",
       "0          119   63.0        1   Facebook       CloseFaster   \n",
       "1            9    8.0        1  Instagram       CloseFaster   \n",
       "2           26   17.0        1   Facebook       CloseFaster   \n",
       "3           12   10.0        1  Instagram       CloseFaster   \n",
       "4          247  150.0        1   Facebook       CloserTwins   \n",
       "\n",
       "  Creative - Version  100% Video Views  Video Starts  Follows  \\\n",
       "0              NoDTI               NaN           NaN      NaN   \n",
       "1              NoDTI               NaN           NaN      NaN   \n",
       "2              NoDTI               NaN           NaN      NaN   \n",
       "3              NoDTI               NaN           NaN      NaN   \n",
       "4          EarlyBird               NaN           NaN      NaN   \n",
       "\n",
       "   Days away from max date  Latest report?       CTR  CTR Score  \\\n",
       "0                      165               0  0.000000        NaN   \n",
       "1                      165               0  0.000000        NaN   \n",
       "2                      165               0  0.000000        NaN   \n",
       "3                      165               0  0.000000        NaN   \n",
       "4                      165               0  0.004049        NaN   \n",
       "\n",
       "   Weighted CTR Score  \n",
       "0                 NaN  \n",
       "1                 NaN  \n",
       "2                 NaN  \n",
       "3                 NaN  \n",
       "4                 NaN  "
      ]
     },
     "execution_count": 5,
     "metadata": {},
     "output_type": "execute_result"
    }
   ],
   "source": [
    "#View the first five rows\n",
    "CD.head(5)"
   ]
  },
  {
   "cell_type": "markdown",
   "id": "acc32c26",
   "metadata": {},
   "source": [
    "Things to note:\n",
    "- Above command shows there are missing values in some columns. Therefore we can remove these individualds from the dataset. However, in some columns there is no data for anything. For example, the creative size column has no data at all. So must be careful when clearing the data.\n",
    "- Instead observing the column, choose to delete columns where there are missing data in the Campaign, Ad Format, Clicks, Date, Impressions, Reach, Audience, Platform, Creative-Family, Creative - Version, 100% Video, Video Starts, Follows, CTR, CTR Score, Weighted CTR\n",
    "- In the Audience column if we look at the options there should be only 6 different audiences. However there is a category of domain targetting which doesn't fit. We can remove these individuals from the dataset."
   ]
  },
  {
   "cell_type": "code",
   "execution_count": 6,
   "id": "45b55e1a",
   "metadata": {},
   "outputs": [],
   "source": [
    "#Creating new dataframe with no missing values \n",
    "CD_new = CD.dropna(subset = ['Campaign', 'Clicks','Creative - Size', 'Reach', '100% Video Views'])"
   ]
  },
  {
   "cell_type": "code",
   "execution_count": 7,
   "id": "385b9b34",
   "metadata": {},
   "outputs": [
    {
     "name": "stdout",
     "output_type": "stream",
     "text": [
      "                                   Campaign Ad Format  Clicks       Spend  \\\n",
      "503        1 - StackAdapt - Display - Video     Video     0.0    5.385759   \n",
      "505        1 - StackAdapt - Display - Video     Video     0.0    5.385772   \n",
      "630        3 - StackAdapt - Display - Video     Video     0.0    0.091778   \n",
      "681        3 - StackAdapt - Display - Video     Video     0.0    4.875151   \n",
      "697        2 - StackAdapt - Display - Video     Video     0.0    2.384257   \n",
      "...                                     ...       ...     ...         ...   \n",
      "94406      4 - StackAdapt - Display - Video     Video     1.0   52.840132   \n",
      "94407      4 - StackAdapt - Display - Video     Video     0.0   52.781207   \n",
      "94469  5 - StackAdapt - Remarketing - Video     Video     4.0  184.986774   \n",
      "94470  5 - StackAdapt - Remarketing - Video     Video     1.0  195.399332   \n",
      "94471  5 - StackAdapt - Remarketing - Video     Video     4.0  193.098164   \n",
      "\n",
      "      Creative - Size       Date  Impressions  Reach Audience        Platform  \\\n",
      "503         1920x1080 2022-07-07          366   32.0        1  Domain Display   \n",
      "505         1920x1080 2022-07-16          366   32.0        1  Domain Display   \n",
      "630         1920x1080 2022-04-24          122    5.0        3  Domain Display   \n",
      "681         1920x1080 2022-05-03          131   12.0        3  Domain Display   \n",
      "697         1920x1080 2022-04-28          280   22.0        2  Domain Display   \n",
      "...               ...        ...          ...    ...      ...             ...   \n",
      "94406       1920x1080 2022-10-18         3592  162.0        4  Domain Display   \n",
      "94407       1920x1080 2022-10-18         3588  188.0        4  Domain Display   \n",
      "94469       1920x1080 2022-10-18        12604  424.0        5  Domain Display   \n",
      "94470       1920x1080 2022-10-18        13315  472.0        5  Domain Display   \n",
      "94471       1920x1080 2022-10-18        13159  442.0        5  Domain Display   \n",
      "\n",
      "      Creative - Family Creative - Version  100% Video Views  Video Starts  \\\n",
      "503         CloserTwins            Faceoff             236.0         326.0   \n",
      "505         CloserTwins          Cutdown1B             301.0         339.0   \n",
      "630         CloserTwins          Cutdown1A               4.0           6.0   \n",
      "681         CloserTwins          Cutdown1B             234.0         265.0   \n",
      "697         CloserTwins          Cutdown1B              93.0         140.0   \n",
      "...                 ...                ...               ...           ...   \n",
      "94406       CloserTwins          Cutdown1B            1893.0        3044.0   \n",
      "94407       CloserTwins            Faceoff            1867.0        2990.0   \n",
      "94469       CloserTwins          Cutdown1A            5491.0       10884.0   \n",
      "94470       CloserTwins          Cutdown1B            8206.0       11616.0   \n",
      "94471       CloserTwins            Faceoff            7909.0       11483.0   \n",
      "\n",
      "       Follows  Days away from max date  Latest report?       CTR  CTR Score  \\\n",
      "503        NaN                      116               0  0.000000        0.5   \n",
      "505        NaN                      107               0  0.000000        0.5   \n",
      "630        NaN                      190               0  0.000000        0.5   \n",
      "681        NaN                      181               0  0.000000        0.5   \n",
      "697        NaN                      186               0  0.000000        0.5   \n",
      "...        ...                      ...             ...       ...        ...   \n",
      "94406      NaN                       13               1  0.000278        0.5   \n",
      "94407      NaN                       13               1  0.000000        0.5   \n",
      "94469      NaN                       13               1  0.000317        0.5   \n",
      "94470      NaN                       13               1  0.000075        0.5   \n",
      "94471      NaN                       13               1  0.000304        0.5   \n",
      "\n",
      "       Weighted CTR Score  \n",
      "503                 183.0  \n",
      "505                 183.0  \n",
      "630                  61.0  \n",
      "681                  65.5  \n",
      "697                 140.0  \n",
      "...                   ...  \n",
      "94406              1796.0  \n",
      "94407              1794.0  \n",
      "94469              6302.0  \n",
      "94470              6657.5  \n",
      "94471              6579.5  \n",
      "\n",
      "[15262 rows x 20 columns]\n"
     ]
    }
   ],
   "source": [
    "#View new dataframe\n",
    "print(CD_new)"
   ]
  },
  {
   "cell_type": "code",
   "execution_count": 8,
   "id": "f52e208d",
   "metadata": {},
   "outputs": [],
   "source": [
    "#Remove the unnecessary columns\n",
    "CD_new2 = CD_new.drop(['100% Video Views', 'Follows', 'Video Starts','Days away from max date',\n",
    "                       'Latest report?'],axis=1)"
   ]
  },
  {
   "cell_type": "code",
   "execution_count": 9,
   "id": "a175d1aa",
   "metadata": {},
   "outputs": [
    {
     "name": "stdout",
     "output_type": "stream",
     "text": [
      "                                   Campaign Ad Format  Clicks       Spend  \\\n",
      "503        1 - StackAdapt - Display - Video     Video     0.0    5.385759   \n",
      "505        1 - StackAdapt - Display - Video     Video     0.0    5.385772   \n",
      "630        3 - StackAdapt - Display - Video     Video     0.0    0.091778   \n",
      "681        3 - StackAdapt - Display - Video     Video     0.0    4.875151   \n",
      "697        2 - StackAdapt - Display - Video     Video     0.0    2.384257   \n",
      "...                                     ...       ...     ...         ...   \n",
      "94406      4 - StackAdapt - Display - Video     Video     1.0   52.840132   \n",
      "94407      4 - StackAdapt - Display - Video     Video     0.0   52.781207   \n",
      "94469  5 - StackAdapt - Remarketing - Video     Video     4.0  184.986774   \n",
      "94470  5 - StackAdapt - Remarketing - Video     Video     1.0  195.399332   \n",
      "94471  5 - StackAdapt - Remarketing - Video     Video     4.0  193.098164   \n",
      "\n",
      "      Creative - Size       Date  Impressions  Reach Audience        Platform  \\\n",
      "503         1920x1080 2022-07-07          366   32.0        1  Domain Display   \n",
      "505         1920x1080 2022-07-16          366   32.0        1  Domain Display   \n",
      "630         1920x1080 2022-04-24          122    5.0        3  Domain Display   \n",
      "681         1920x1080 2022-05-03          131   12.0        3  Domain Display   \n",
      "697         1920x1080 2022-04-28          280   22.0        2  Domain Display   \n",
      "...               ...        ...          ...    ...      ...             ...   \n",
      "94406       1920x1080 2022-10-18         3592  162.0        4  Domain Display   \n",
      "94407       1920x1080 2022-10-18         3588  188.0        4  Domain Display   \n",
      "94469       1920x1080 2022-10-18        12604  424.0        5  Domain Display   \n",
      "94470       1920x1080 2022-10-18        13315  472.0        5  Domain Display   \n",
      "94471       1920x1080 2022-10-18        13159  442.0        5  Domain Display   \n",
      "\n",
      "      Creative - Family Creative - Version       CTR  CTR Score  \\\n",
      "503         CloserTwins            Faceoff  0.000000        0.5   \n",
      "505         CloserTwins          Cutdown1B  0.000000        0.5   \n",
      "630         CloserTwins          Cutdown1A  0.000000        0.5   \n",
      "681         CloserTwins          Cutdown1B  0.000000        0.5   \n",
      "697         CloserTwins          Cutdown1B  0.000000        0.5   \n",
      "...                 ...                ...       ...        ...   \n",
      "94406       CloserTwins          Cutdown1B  0.000278        0.5   \n",
      "94407       CloserTwins            Faceoff  0.000000        0.5   \n",
      "94469       CloserTwins          Cutdown1A  0.000317        0.5   \n",
      "94470       CloserTwins          Cutdown1B  0.000075        0.5   \n",
      "94471       CloserTwins            Faceoff  0.000304        0.5   \n",
      "\n",
      "       Weighted CTR Score  \n",
      "503                 183.0  \n",
      "505                 183.0  \n",
      "630                  61.0  \n",
      "681                  65.5  \n",
      "697                 140.0  \n",
      "...                   ...  \n",
      "94406              1796.0  \n",
      "94407              1794.0  \n",
      "94469              6302.0  \n",
      "94470              6657.5  \n",
      "94471              6579.5  \n",
      "\n",
      "[15262 rows x 15 columns]\n"
     ]
    }
   ],
   "source": [
    "#View new dataframe\n",
    "print(CD_new2)"
   ]
  },
  {
   "cell_type": "code",
   "execution_count": 40,
   "id": "dac17ea3",
   "metadata": {},
   "outputs": [],
   "source": [
    "#Creating new dataframe with no missing values \n",
    "CD_new3 = CD.dropna(subset = ['Campaign', 'Clicks','Impressions', 'Reach', 'CTR'])"
   ]
  },
  {
   "cell_type": "code",
   "execution_count": 41,
   "id": "5066553f",
   "metadata": {},
   "outputs": [
    {
     "name": "stdout",
     "output_type": "stream",
     "text": [
      "                                    Campaign     Ad Format  Clicks  \\\n",
      "0                                       FY22  Single image     0.0   \n",
      "1                                       FY22  Single image     0.0   \n",
      "2                                       FY22  Single image     0.0   \n",
      "3                                       FY22  Single image     0.0   \n",
      "4                                       FY22  Single image     1.0   \n",
      "...                                      ...           ...     ...   \n",
      "94467  5 - StackAdapt - Remarketing - Native        Native     1.0   \n",
      "94468  5 - StackAdapt - Remarketing - Native        Native     0.0   \n",
      "94469   5 - StackAdapt - Remarketing - Video         Video     4.0   \n",
      "94470   5 - StackAdapt - Remarketing - Video         Video     1.0   \n",
      "94471   5 - StackAdapt - Remarketing - Video         Video     4.0   \n",
      "\n",
      "            Spend Creative - Size       Date  Impressions  Reach Audience  \\\n",
      "0        0.260000             NaN 2022-05-19          119   63.0        1   \n",
      "1        0.150000             NaN 2022-05-19            9    8.0        1   \n",
      "2        0.380000             NaN 2022-05-19           26   17.0        1   \n",
      "3        0.190000             NaN 2022-05-19           12   10.0        1   \n",
      "4        3.620000             NaN 2022-05-19          247  150.0        1   \n",
      "...           ...             ...        ...          ...    ...      ...   \n",
      "94467    1.063555         800x600 2022-10-18          181   31.0        5   \n",
      "94468    0.516079         800x600 2022-10-18           88   13.0        5   \n",
      "94469  184.986774       1920x1080 2022-10-18        12604  424.0        5   \n",
      "94470  195.399332       1920x1080 2022-10-18        13315  472.0        5   \n",
      "94471  193.098164       1920x1080 2022-10-18        13159  442.0        5   \n",
      "\n",
      "             Platform Creative - Family Creative - Version  100% Video Views  \\\n",
      "0            Facebook       CloseFaster              NoDTI               NaN   \n",
      "1           Instagram       CloseFaster              NoDTI               NaN   \n",
      "2            Facebook       CloseFaster              NoDTI               NaN   \n",
      "3           Instagram       CloseFaster              NoDTI               NaN   \n",
      "4            Facebook       CloserTwins          EarlyBird               NaN   \n",
      "...               ...               ...                ...               ...   \n",
      "94467  Domain Display   UnfairAdvantage            OnePage               NaN   \n",
      "94468  Domain Display   UnfairAdvantage               1099               NaN   \n",
      "94469  Domain Display       CloserTwins          Cutdown1A            5491.0   \n",
      "94470  Domain Display       CloserTwins          Cutdown1B            8206.0   \n",
      "94471  Domain Display       CloserTwins            Faceoff            7909.0   \n",
      "\n",
      "       Video Starts  Follows  Days away from max date  Latest report?  \\\n",
      "0               NaN      NaN                      165               0   \n",
      "1               NaN      NaN                      165               0   \n",
      "2               NaN      NaN                      165               0   \n",
      "3               NaN      NaN                      165               0   \n",
      "4               NaN      NaN                      165               0   \n",
      "...             ...      ...                      ...             ...   \n",
      "94467           NaN      NaN                       13               1   \n",
      "94468           NaN      NaN                       13               1   \n",
      "94469       10884.0      NaN                       13               1   \n",
      "94470       11616.0      NaN                       13               1   \n",
      "94471       11483.0      NaN                       13               1   \n",
      "\n",
      "            CTR  CTR Score  Weighted CTR Score  \n",
      "0      0.000000        NaN                 NaN  \n",
      "1      0.000000        NaN                 NaN  \n",
      "2      0.000000        NaN                 NaN  \n",
      "3      0.000000        NaN                 NaN  \n",
      "4      0.004049        NaN                 NaN  \n",
      "...         ...        ...                 ...  \n",
      "94467  0.005525        1.5               271.5  \n",
      "94468  0.000000        0.5                44.0  \n",
      "94469  0.000317        0.5              6302.0  \n",
      "94470  0.000075        0.5              6657.5  \n",
      "94471  0.000304        0.5              6579.5  \n",
      "\n",
      "[65623 rows x 20 columns]\n"
     ]
    }
   ],
   "source": [
    "#View new dataframe\n",
    "print(CD_new3)"
   ]
  },
  {
   "cell_type": "code",
   "execution_count": 43,
   "id": "f507efdd",
   "metadata": {},
   "outputs": [],
   "source": [
    "#Remove the unnecessary columns\n",
    "CD_new4 = CD_new3.drop(['100% Video Views', 'Follows', 'Video Starts','Days away from max date',\n",
    "                       'Latest report?'],axis=1)"
   ]
  },
  {
   "cell_type": "code",
   "execution_count": 44,
   "id": "bce600ad",
   "metadata": {},
   "outputs": [
    {
     "name": "stdout",
     "output_type": "stream",
     "text": [
      "                                    Campaign     Ad Format  Clicks  \\\n",
      "0                                       FY22  Single image     0.0   \n",
      "1                                       FY22  Single image     0.0   \n",
      "2                                       FY22  Single image     0.0   \n",
      "3                                       FY22  Single image     0.0   \n",
      "4                                       FY22  Single image     1.0   \n",
      "...                                      ...           ...     ...   \n",
      "94467  5 - StackAdapt - Remarketing - Native        Native     1.0   \n",
      "94468  5 - StackAdapt - Remarketing - Native        Native     0.0   \n",
      "94469   5 - StackAdapt - Remarketing - Video         Video     4.0   \n",
      "94470   5 - StackAdapt - Remarketing - Video         Video     1.0   \n",
      "94471   5 - StackAdapt - Remarketing - Video         Video     4.0   \n",
      "\n",
      "            Spend Creative - Size       Date  Impressions  Reach Audience  \\\n",
      "0        0.260000             NaN 2022-05-19          119   63.0        1   \n",
      "1        0.150000             NaN 2022-05-19            9    8.0        1   \n",
      "2        0.380000             NaN 2022-05-19           26   17.0        1   \n",
      "3        0.190000             NaN 2022-05-19           12   10.0        1   \n",
      "4        3.620000             NaN 2022-05-19          247  150.0        1   \n",
      "...           ...             ...        ...          ...    ...      ...   \n",
      "94467    1.063555         800x600 2022-10-18          181   31.0        5   \n",
      "94468    0.516079         800x600 2022-10-18           88   13.0        5   \n",
      "94469  184.986774       1920x1080 2022-10-18        12604  424.0        5   \n",
      "94470  195.399332       1920x1080 2022-10-18        13315  472.0        5   \n",
      "94471  193.098164       1920x1080 2022-10-18        13159  442.0        5   \n",
      "\n",
      "             Platform Creative - Family Creative - Version       CTR  \\\n",
      "0            Facebook       CloseFaster              NoDTI  0.000000   \n",
      "1           Instagram       CloseFaster              NoDTI  0.000000   \n",
      "2            Facebook       CloseFaster              NoDTI  0.000000   \n",
      "3           Instagram       CloseFaster              NoDTI  0.000000   \n",
      "4            Facebook       CloserTwins          EarlyBird  0.004049   \n",
      "...               ...               ...                ...       ...   \n",
      "94467  Domain Display   UnfairAdvantage            OnePage  0.005525   \n",
      "94468  Domain Display   UnfairAdvantage               1099  0.000000   \n",
      "94469  Domain Display       CloserTwins          Cutdown1A  0.000317   \n",
      "94470  Domain Display       CloserTwins          Cutdown1B  0.000075   \n",
      "94471  Domain Display       CloserTwins            Faceoff  0.000304   \n",
      "\n",
      "       CTR Score  Weighted CTR Score  \n",
      "0            NaN                 NaN  \n",
      "1            NaN                 NaN  \n",
      "2            NaN                 NaN  \n",
      "3            NaN                 NaN  \n",
      "4            NaN                 NaN  \n",
      "...          ...                 ...  \n",
      "94467        1.5               271.5  \n",
      "94468        0.5                44.0  \n",
      "94469        0.5              6302.0  \n",
      "94470        0.5              6657.5  \n",
      "94471        0.5              6579.5  \n",
      "\n",
      "[65623 rows x 15 columns]\n"
     ]
    }
   ],
   "source": [
    "#View new dataframe\n",
    "print(CD_new4)"
   ]
  },
  {
   "cell_type": "code",
   "execution_count": 42,
   "id": "77ea261b",
   "metadata": {},
   "outputs": [
    {
     "data": {
      "text/plain": [
       "<AxesSubplot:xlabel='Spend', ylabel='Reach'>"
      ]
     },
     "execution_count": 42,
     "metadata": {},
     "output_type": "execute_result"
    },
    {
     "data": {
      "image/png": "[encoded data removed]",
      "text/plain": [
       "<Figure size 432x288 with 1 Axes>"
      ]
     },
     "metadata": {},
     "output_type": "display_data"
    }
   ],
   "source": [
    "sns.scatterplot(y='Reach', x='Spend', data=CD_new2)"
   ]
  },
  {
   "cell_type": "code",
   "execution_count": 45,
   "id": "413414e0",
   "metadata": {},
   "outputs": [
    {
     "data": {
      "text/plain": [
       "<AxesSubplot:xlabel='Spend', ylabel='Reach'>"
      ]
     },
     "execution_count": 45,
     "metadata": {},
     "output_type": "execute_result"
    },
    {
     "data": {
      "image/png": "[encoded data removed]",
      "text/plain": [
       "<Figure size 432x288 with 1 Axes>"
      ]
     },
     "metadata": {},
     "output_type": "display_data"
    }
   ],
   "source": [
    "sns.scatterplot(y='Reach', x='Spend', data=CD_new4)"
   ]
  },
  {
   "cell_type": "code",
   "execution_count": 46,
   "id": "5f0df1f1",
   "metadata": {},
   "outputs": [
    {
     "data": {
      "text/html": [
       "<div>\n",
       "<style scoped>\n",
       "    .dataframe tbody tr th:only-of-type {\n",
       "        vertical-align: middle;\n",
       "    }\n",
       "\n",
       "    .dataframe tbody tr th {\n",
       "        vertical-align: top;\n",
       "    }\n",
       "\n",
       "    .dataframe thead th {\n",
       "        text-align: right;\n",
       "    }\n",
       "</style>\n",
       "<table border=\"1\" class=\"dataframe\">\n",
       "  <thead>\n",
       "    <tr style=\"text-align: right;\">\n",
       "      <th></th>\n",
       "      <th>Audience</th>\n",
       "      <th>Platform</th>\n",
       "      <th>Spend</th>\n",
       "    </tr>\n",
       "  </thead>\n",
       "  <tbody>\n",
       "    <tr>\n",
       "      <th>0</th>\n",
       "      <td>1</td>\n",
       "      <td>Domain Display</td>\n",
       "      <td>2441.681227</td>\n",
       "    </tr>\n",
       "    <tr>\n",
       "      <th>1</th>\n",
       "      <td>1</td>\n",
       "      <td>User ID Display</td>\n",
       "      <td>11850.237967</td>\n",
       "    </tr>\n",
       "    <tr>\n",
       "      <th>2</th>\n",
       "      <td>2</td>\n",
       "      <td>Domain Display</td>\n",
       "      <td>796.065684</td>\n",
       "    </tr>\n",
       "    <tr>\n",
       "      <th>3</th>\n",
       "      <td>2</td>\n",
       "      <td>User ID Display</td>\n",
       "      <td>2378.701793</td>\n",
       "    </tr>\n",
       "    <tr>\n",
       "      <th>4</th>\n",
       "      <td>3</td>\n",
       "      <td>Domain Display</td>\n",
       "      <td>2358.547584</td>\n",
       "    </tr>\n",
       "    <tr>\n",
       "      <th>5</th>\n",
       "      <td>3</td>\n",
       "      <td>User ID Display</td>\n",
       "      <td>11618.371968</td>\n",
       "    </tr>\n",
       "    <tr>\n",
       "      <th>6</th>\n",
       "      <td>4</td>\n",
       "      <td>Domain Display</td>\n",
       "      <td>8730.963044</td>\n",
       "    </tr>\n",
       "    <tr>\n",
       "      <th>7</th>\n",
       "      <td>4</td>\n",
       "      <td>User ID Display</td>\n",
       "      <td>24516.934554</td>\n",
       "    </tr>\n",
       "    <tr>\n",
       "      <th>8</th>\n",
       "      <td>5</td>\n",
       "      <td>Domain Display</td>\n",
       "      <td>23063.708468</td>\n",
       "    </tr>\n",
       "    <tr>\n",
       "      <th>9</th>\n",
       "      <td>5</td>\n",
       "      <td>User ID Display</td>\n",
       "      <td>4585.134268</td>\n",
       "    </tr>\n",
       "  </tbody>\n",
       "</table>\n",
       "</div>"
      ],
      "text/plain": [
       "  Audience         Platform         Spend\n",
       "0        1   Domain Display   2441.681227\n",
       "1        1  User ID Display  11850.237967\n",
       "2        2   Domain Display    796.065684\n",
       "3        2  User ID Display   2378.701793\n",
       "4        3   Domain Display   2358.547584\n",
       "5        3  User ID Display  11618.371968\n",
       "6        4   Domain Display   8730.963044\n",
       "7        4  User ID Display  24516.934554\n",
       "8        5   Domain Display  23063.708468\n",
       "9        5  User ID Display   4585.134268"
      ]
     },
     "execution_count": 46,
     "metadata": {},
     "output_type": "execute_result"
    }
   ],
   "source": [
    "Creative_details1 = CD_new2.groupby(['Audience','Platform'])['Spend'].sum().reset_index() \n",
    "\n",
    "Creative_details1"
   ]
  },
  {
   "cell_type": "code",
   "execution_count": 47,
   "id": "112bbce1",
   "metadata": {},
   "outputs": [
    {
     "data": {
      "text/html": [
       "<div>\n",
       "<style scoped>\n",
       "    .dataframe tbody tr th:only-of-type {\n",
       "        vertical-align: middle;\n",
       "    }\n",
       "\n",
       "    .dataframe tbody tr th {\n",
       "        vertical-align: top;\n",
       "    }\n",
       "\n",
       "    .dataframe thead th {\n",
       "        text-align: right;\n",
       "    }\n",
       "</style>\n",
       "<table border=\"1\" class=\"dataframe\">\n",
       "  <thead>\n",
       "    <tr style=\"text-align: right;\">\n",
       "      <th></th>\n",
       "      <th>Audience</th>\n",
       "      <th>Platform</th>\n",
       "      <th>Spend</th>\n",
       "    </tr>\n",
       "  </thead>\n",
       "  <tbody>\n",
       "    <tr>\n",
       "      <th>0</th>\n",
       "      <td>1</td>\n",
       "      <td>Domain Display</td>\n",
       "      <td>10675.689314</td>\n",
       "    </tr>\n",
       "    <tr>\n",
       "      <th>1</th>\n",
       "      <td>1</td>\n",
       "      <td>Facebook</td>\n",
       "      <td>1997.174256</td>\n",
       "    </tr>\n",
       "    <tr>\n",
       "      <th>2</th>\n",
       "      <td>1</td>\n",
       "      <td>Instagram</td>\n",
       "      <td>330.875744</td>\n",
       "    </tr>\n",
       "    <tr>\n",
       "      <th>3</th>\n",
       "      <td>1</td>\n",
       "      <td>LinkedIn</td>\n",
       "      <td>14290.180388</td>\n",
       "    </tr>\n",
       "    <tr>\n",
       "      <th>4</th>\n",
       "      <td>1</td>\n",
       "      <td>User ID Display</td>\n",
       "      <td>11850.237967</td>\n",
       "    </tr>\n",
       "    <tr>\n",
       "      <th>5</th>\n",
       "      <td>2</td>\n",
       "      <td>Domain Display</td>\n",
       "      <td>2822.377092</td>\n",
       "    </tr>\n",
       "    <tr>\n",
       "      <th>6</th>\n",
       "      <td>2</td>\n",
       "      <td>Facebook</td>\n",
       "      <td>1565.250000</td>\n",
       "    </tr>\n",
       "    <tr>\n",
       "      <th>7</th>\n",
       "      <td>2</td>\n",
       "      <td>Instagram</td>\n",
       "      <td>301.270000</td>\n",
       "    </tr>\n",
       "    <tr>\n",
       "      <th>8</th>\n",
       "      <td>2</td>\n",
       "      <td>LinkedIn</td>\n",
       "      <td>8722.673002</td>\n",
       "    </tr>\n",
       "    <tr>\n",
       "      <th>9</th>\n",
       "      <td>2</td>\n",
       "      <td>User ID Display</td>\n",
       "      <td>2378.701793</td>\n",
       "    </tr>\n",
       "    <tr>\n",
       "      <th>10</th>\n",
       "      <td>3</td>\n",
       "      <td>Domain Display</td>\n",
       "      <td>8346.810885</td>\n",
       "    </tr>\n",
       "    <tr>\n",
       "      <th>11</th>\n",
       "      <td>3</td>\n",
       "      <td>Facebook</td>\n",
       "      <td>1461.058326</td>\n",
       "    </tr>\n",
       "    <tr>\n",
       "      <th>12</th>\n",
       "      <td>3</td>\n",
       "      <td>Instagram</td>\n",
       "      <td>391.531882</td>\n",
       "    </tr>\n",
       "    <tr>\n",
       "      <th>13</th>\n",
       "      <td>3</td>\n",
       "      <td>LinkedIn</td>\n",
       "      <td>6558.077924</td>\n",
       "    </tr>\n",
       "    <tr>\n",
       "      <th>14</th>\n",
       "      <td>3</td>\n",
       "      <td>User ID Display</td>\n",
       "      <td>11618.371968</td>\n",
       "    </tr>\n",
       "    <tr>\n",
       "      <th>15</th>\n",
       "      <td>4</td>\n",
       "      <td>Domain Display</td>\n",
       "      <td>62957.080407</td>\n",
       "    </tr>\n",
       "    <tr>\n",
       "      <th>16</th>\n",
       "      <td>4</td>\n",
       "      <td>LinkedIn</td>\n",
       "      <td>35288.822743</td>\n",
       "    </tr>\n",
       "    <tr>\n",
       "      <th>17</th>\n",
       "      <td>4</td>\n",
       "      <td>User ID Display</td>\n",
       "      <td>24516.934554</td>\n",
       "    </tr>\n",
       "    <tr>\n",
       "      <th>18</th>\n",
       "      <td>5</td>\n",
       "      <td>Domain Display</td>\n",
       "      <td>60350.473373</td>\n",
       "    </tr>\n",
       "    <tr>\n",
       "      <th>19</th>\n",
       "      <td>5</td>\n",
       "      <td>LinkedIn</td>\n",
       "      <td>33056.188211</td>\n",
       "    </tr>\n",
       "    <tr>\n",
       "      <th>20</th>\n",
       "      <td>5</td>\n",
       "      <td>User ID Display</td>\n",
       "      <td>4585.134268</td>\n",
       "    </tr>\n",
       "    <tr>\n",
       "      <th>21</th>\n",
       "      <td>General Targetting</td>\n",
       "      <td>Domain Display</td>\n",
       "      <td>1275.127592</td>\n",
       "    </tr>\n",
       "    <tr>\n",
       "      <th>22</th>\n",
       "      <td>General Targetting</td>\n",
       "      <td>LinkedIn</td>\n",
       "      <td>4258.944637</td>\n",
       "    </tr>\n",
       "  </tbody>\n",
       "</table>\n",
       "</div>"
      ],
      "text/plain": [
       "              Audience         Platform         Spend\n",
       "0                    1   Domain Display  10675.689314\n",
       "1                    1         Facebook   1997.174256\n",
       "2                    1        Instagram    330.875744\n",
       "3                    1         LinkedIn  14290.180388\n",
       "4                    1  User ID Display  11850.237967\n",
       "5                    2   Domain Display   2822.377092\n",
       "6                    2         Facebook   1565.250000\n",
       "7                    2        Instagram    301.270000\n",
       "8                    2         LinkedIn   8722.673002\n",
       "9                    2  User ID Display   2378.701793\n",
       "10                   3   Domain Display   8346.810885\n",
       "11                   3         Facebook   1461.058326\n",
       "12                   3        Instagram    391.531882\n",
       "13                   3         LinkedIn   6558.077924\n",
       "14                   3  User ID Display  11618.371968\n",
       "15                   4   Domain Display  62957.080407\n",
       "16                   4         LinkedIn  35288.822743\n",
       "17                   4  User ID Display  24516.934554\n",
       "18                   5   Domain Display  60350.473373\n",
       "19                   5         LinkedIn  33056.188211\n",
       "20                   5  User ID Display   4585.134268\n",
       "21  General Targetting   Domain Display   1275.127592\n",
       "22  General Targetting         LinkedIn   4258.944637"
      ]
     },
     "execution_count": 47,
     "metadata": {},
     "output_type": "execute_result"
    }
   ],
   "source": [
    "Creative_details2 = CD_new4.groupby(['Audience','Platform'])['Spend'].sum().reset_index() \n",
    "\n",
    "Creative_details2"
   ]
  },
  {
   "cell_type": "code",
   "execution_count": 12,
   "id": "1fee1851",
   "metadata": {},
   "outputs": [
    {
     "data": {
      "text/plain": [
       "(array([ 0,  1,  2,  3,  4,  5,  6,  7,  8,  9, 10, 11, 12, 13]),\n",
       " [Text(0, 0, '1 - StackAdapt - Display - Video'),\n",
       "  Text(1, 0, '3 - StackAdapt - Display - Video'),\n",
       "  Text(2, 0, '2 - StackAdapt - Display - Video'),\n",
       "  Text(3, 0, '4 - StackAdapt - Display - Video'),\n",
       "  Text(4, 0, '5 - StackAdapt - Remarketing - Video'),\n",
       "  Text(5, 0, 'FY22 Change Wholesale'),\n",
       "  Text(6, 0, 'FY22 Change Wholesale - 3 - Display - Banner'),\n",
       "  Text(7, 0, 'FY22 Change Wholesale - 1 - Display - Banner'),\n",
       "  Text(8, 0, 'FY22 Change Wholesale - 5 - Display - ClickRetargeting for UnRegistered'),\n",
       "  Text(9, 0, 'FY22 Change Wholesale - 2 - Display - Banner'),\n",
       "  Text(10, 0, 'FY22 Change Wholesale - 4 - Display - Banner'),\n",
       "  Text(11, 0, 'FY22 Change Wholesale - 5 - Display - ClickRetargeting for Registered'),\n",
       "  Text(12, 0, 'FY22 Change Wholesale - 4 - Display - Banner - Domain'),\n",
       "  Text(13, 0, 'FY22 Change Wholesale - 4 - Display - Banner - IP Data')])"
      ]
     },
     "execution_count": 12,
     "metadata": {},
     "output_type": "execute_result"
    },
    {
     "data": {
      "image/png": "[encoded data removed]",
      "text/plain": [
       "<Figure size 1080x864 with 1 Axes>"
      ]
     },
     "metadata": {
      "needs_background": "light"
     },
     "output_type": "display_data"
    }
   ],
   "source": [
    "#Create a Barplot\n",
    "plt.figure(figsize=(15, 12))\n",
    "#Set the colour/plot style\n",
    "sns.set_style('white')\n",
    "\n",
    "sns.barplot(x='Campaign', y='Spend', data=CD_new2, ci=None)\n",
    "plt.xticks(rotation=90)"
   ]
  },
  {
   "cell_type": "code",
   "execution_count": 13,
   "id": "15ea4b3d",
   "metadata": {},
   "outputs": [
    {
     "data": {
      "text/plain": [
       "(array([ 0,  1,  2,  3,  4,  5,  6,  7,  8,  9, 10, 11, 12, 13]),\n",
       " [Text(0, 0, '1 - StackAdapt - Display - Video'),\n",
       "  Text(1, 0, '3 - StackAdapt - Display - Video'),\n",
       "  Text(2, 0, '2 - StackAdapt - Display - Video'),\n",
       "  Text(3, 0, '4 - StackAdapt - Display - Video'),\n",
       "  Text(4, 0, '5 - StackAdapt - Remarketing - Video'),\n",
       "  Text(5, 0, 'FY22 Change Wholesale'),\n",
       "  Text(6, 0, 'FY22 Change Wholesale - 3 - Display - Banner'),\n",
       "  Text(7, 0, 'FY22 Change Wholesale - 1 - Display - Banner'),\n",
       "  Text(8, 0, 'FY22 Change Wholesale - 5 - Display - ClickRetargeting for UnRegistered'),\n",
       "  Text(9, 0, 'FY22 Change Wholesale - 2 - Display - Banner'),\n",
       "  Text(10, 0, 'FY22 Change Wholesale - 4 - Display - Banner'),\n",
       "  Text(11, 0, 'FY22 Change Wholesale - 5 - Display - ClickRetargeting for Registered'),\n",
       "  Text(12, 0, 'FY22 Change Wholesale - 4 - Display - Banner - Domain'),\n",
       "  Text(13, 0, 'FY22 Change Wholesale - 4 - Display - Banner - IP Data')])"
      ]
     },
     "execution_count": 13,
     "metadata": {},
     "output_type": "execute_result"
    },
    {
     "data": {
      "image/png": "[encoded data removed]",
      "text/plain": [
       "<Figure size 1080x864 with 1 Axes>"
      ]
     },
     "metadata": {},
     "output_type": "display_data"
    }
   ],
   "source": [
    "#Create a Barplot\n",
    "plt.figure(figsize=(15, 12))\n",
    "#Set the colour/plot style\n",
    "sns.set_style('white')\n",
    "\n",
    "sns.barplot(x='Campaign', y='Spend', hue='Audience', data=CD_new2, ci=None)\n",
    "plt.xticks(rotation=90)"
   ]
  },
  {
   "cell_type": "code",
   "execution_count": 14,
   "id": "026cc263",
   "metadata": {},
   "outputs": [
    {
     "data": {
      "text/plain": [
       "(array([0, 1, 2, 3, 4]),\n",
       " [Text(0, 0, '1'),\n",
       "  Text(1, 0, '3'),\n",
       "  Text(2, 0, '2'),\n",
       "  Text(3, 0, '4'),\n",
       "  Text(4, 0, '5')])"
      ]
     },
     "execution_count": 14,
     "metadata": {},
     "output_type": "execute_result"
    },
    {
     "data": {
      "image/png": "[encoded data removed]",
      "text/plain": [
       "<Figure size 1080x864 with 1 Axes>"
      ]
     },
     "metadata": {},
     "output_type": "display_data"
    }
   ],
   "source": [
    "#Create a Barplot\n",
    "plt.figure(figsize=(15, 12))\n",
    "#Set the colour/plot style\n",
    "sns.set_style('white')\n",
    "\n",
    "sns.barplot(x='Audience', y='Spend', hue='Campaign', data=CD_new2, ci=None)\n",
    "plt.xticks(rotation=90)"
   ]
  },
  {
   "cell_type": "markdown",
   "id": "ace643ff",
   "metadata": {},
   "source": [
    "## Regression Analysis "
   ]
  },
  {
   "cell_type": "markdown",
   "id": "08c7978b",
   "metadata": {},
   "source": [
    "Spend VS Clicks"
   ]
  },
  {
   "cell_type": "code",
   "execution_count": 15,
   "id": "6c0d9ce3",
   "metadata": {},
   "outputs": [
    {
     "data": {
      "text/plain": [
       "<matplotlib.collections.PathCollection at 0x7fa81e0a3f10>"
      ]
     },
     "execution_count": 15,
     "metadata": {},
     "output_type": "execute_result"
    },
    {
     "data": {
      "image/png": "[encoded data removed]",
      "text/plain": [
       "<Figure size 432x288 with 1 Axes>"
      ]
     },
     "metadata": {},
     "output_type": "display_data"
    }
   ],
   "source": [
    "#Independent variable\n",
    "y = CD_new2[\"Spend\"] \n",
    "\n",
    "#Dependent variable\n",
    "X = CD_new2[\"Clicks\"]\n",
    "\n",
    "#Check for linearity\n",
    "plt.scatter(X,y)"
   ]
  },
  {
   "cell_type": "code",
   "execution_count": 16,
   "id": "42810175",
   "metadata": {},
   "outputs": [
    {
     "data": {
      "text/html": [
       "<table class=\"simpletable\">\n",
       "<caption>OLS Regression Results</caption>\n",
       "<tr>\n",
       "  <th>Dep. Variable:</th>            <td>y</td>        <th>  R-squared:         </th> <td>   0.282</td> \n",
       "</tr>\n",
       "<tr>\n",
       "  <th>Model:</th>                   <td>OLS</td>       <th>  Adj. R-squared:    </th> <td>   0.282</td> \n",
       "</tr>\n",
       "<tr>\n",
       "  <th>Method:</th>             <td>Least Squares</td>  <th>  F-statistic:       </th> <td>   5995.</td> \n",
       "</tr>\n",
       "<tr>\n",
       "  <th>Date:</th>             <td>Sun, 19 Feb 2023</td> <th>  Prob (F-statistic):</th>  <td>  0.00</td>  \n",
       "</tr>\n",
       "<tr>\n",
       "  <th>Time:</th>                 <td>20:18:45</td>     <th>  Log-Likelihood:    </th> <td> -59785.</td> \n",
       "</tr>\n",
       "<tr>\n",
       "  <th>No. Observations:</th>      <td> 15262</td>      <th>  AIC:               </th> <td>1.196e+05</td>\n",
       "</tr>\n",
       "<tr>\n",
       "  <th>Df Residuals:</th>          <td> 15260</td>      <th>  BIC:               </th> <td>1.196e+05</td>\n",
       "</tr>\n",
       "<tr>\n",
       "  <th>Df Model:</th>              <td>     1</td>      <th>                     </th>     <td> </td>    \n",
       "</tr>\n",
       "<tr>\n",
       "  <th>Covariance Type:</th>      <td>nonrobust</td>    <th>                     </th>     <td> </td>    \n",
       "</tr>\n",
       "</table>\n",
       "<table class=\"simpletable\">\n",
       "<tr>\n",
       "      <td></td>         <th>coef</th>     <th>std err</th>      <th>t</th>      <th>P>|t|</th>  <th>[0.025</th>    <th>0.975]</th>  \n",
       "</tr>\n",
       "<tr>\n",
       "  <th>Intercept</th> <td>    1.7454</td> <td>    0.113</td> <td>   15.437</td> <td> 0.000</td> <td>    1.524</td> <td>    1.967</td>\n",
       "</tr>\n",
       "<tr>\n",
       "  <th>X</th>         <td>    3.2900</td> <td>    0.042</td> <td>   77.429</td> <td> 0.000</td> <td>    3.207</td> <td>    3.373</td>\n",
       "</tr>\n",
       "</table>\n",
       "<table class=\"simpletable\">\n",
       "<tr>\n",
       "  <th>Omnibus:</th>       <td>26370.429</td> <th>  Durbin-Watson:     </th>   <td>   0.689</td>  \n",
       "</tr>\n",
       "<tr>\n",
       "  <th>Prob(Omnibus):</th>  <td> 0.000</td>   <th>  Jarque-Bera (JB):  </th> <td>37177061.654</td>\n",
       "</tr>\n",
       "<tr>\n",
       "  <th>Skew:</th>           <td>12.003</td>   <th>  Prob(JB):          </th>   <td>    0.00</td>  \n",
       "</tr>\n",
       "<tr>\n",
       "  <th>Kurtosis:</th>       <td>243.595</td>  <th>  Cond. No.          </th>   <td>    3.17</td>  \n",
       "</tr>\n",
       "</table><br/><br/>Notes:<br/>[1] Standard Errors assume that the covariance matrix of the errors is correctly specified."
      ],
      "text/plain": [
       "<class 'statsmodels.iolib.summary.Summary'>\n",
       "\"\"\"\n",
       "                            OLS Regression Results                            \n",
       "==============================================================================\n",
       "Dep. Variable:                      y   R-squared:                       0.282\n",
       "Model:                            OLS   Adj. R-squared:                  0.282\n",
       "Method:                 Least Squares   F-statistic:                     5995.\n",
       "Date:                Sun, 19 Feb 2023   Prob (F-statistic):               0.00\n",
       "Time:                        20:18:45   Log-Likelihood:                -59785.\n",
       "No. Observations:               15262   AIC:                         1.196e+05\n",
       "Df Residuals:                   15260   BIC:                         1.196e+05\n",
       "Df Model:                           1                                         \n",
       "Covariance Type:            nonrobust                                         \n",
       "==============================================================================\n",
       "                 coef    std err          t      P>|t|      [0.025      0.975]\n",
       "------------------------------------------------------------------------------\n",
       "Intercept      1.7454      0.113     15.437      0.000       1.524       1.967\n",
       "X              3.2900      0.042     77.429      0.000       3.207       3.373\n",
       "==============================================================================\n",
       "Omnibus:                    26370.429   Durbin-Watson:                   0.689\n",
       "Prob(Omnibus):                  0.000   Jarque-Bera (JB):         37177061.654\n",
       "Skew:                          12.003   Prob(JB):                         0.00\n",
       "Kurtosis:                     243.595   Cond. No.                         3.17\n",
       "==============================================================================\n",
       "\n",
       "Notes:\n",
       "[1] Standard Errors assume that the covariance matrix of the errors is correctly specified.\n",
       "\"\"\""
      ]
     },
     "execution_count": 16,
     "metadata": {},
     "output_type": "execute_result"
    }
   ],
   "source": [
    "#Run the OLS model\n",
    "f = 'y ~ X'\n",
    "test = ols(f, data = CD_new2).fit()\n",
    "\n",
    "#View the output\n",
    "test.summary()"
   ]
  },
  {
   "cell_type": "code",
   "execution_count": 17,
   "id": "95a6907e",
   "metadata": {},
   "outputs": [
    {
     "name": "stdout",
     "output_type": "stream",
     "text": [
      "Parameters:  Intercept    1.745384\n",
      "X            3.290050\n",
      "dtype: float64\n",
      "Standard errors:  Intercept    0.113065\n",
      "X            0.042491\n",
      "dtype: float64\n",
      "Predicted values:  [ 1.745384    1.745384    1.745384   ... 14.90558348  5.03543387\n",
      " 14.90558348]\n"
     ]
    }
   ],
   "source": [
    "#Extract the estimated parameters\n",
    "print(\"Parameters: \", test.params)  \n",
    "\n",
    "#Extract the standard errors\n",
    "print(\"Standard errors: \", test.bse)  \n",
    "\n",
    "#Extract the predicted values\n",
    "print(\"Predicted values: \", test.predict())  "
   ]
  },
  {
   "cell_type": "markdown",
   "id": "2a473a62",
   "metadata": {},
   "source": [
    "Second data"
   ]
  },
  {
   "cell_type": "code",
   "execution_count": 49,
   "id": "78b37b12",
   "metadata": {},
   "outputs": [
    {
     "data": {
      "text/plain": [
       "<matplotlib.collections.PathCollection at 0x7fa8398e9460>"
      ]
     },
     "execution_count": 49,
     "metadata": {},
     "output_type": "execute_result"
    },
    {
     "data": {
      "image/png": "[encoded data removed]",
      "text/plain": [
       "<Figure size 432x288 with 1 Axes>"
      ]
     },
     "metadata": {},
     "output_type": "display_data"
    }
   ],
   "source": [
    "#Independent variable\n",
    "y = CD_new4[\"Spend\"] \n",
    "\n",
    "#Dependent variable\n",
    "X = CD_new4[\"Clicks\"]\n",
    "\n",
    "#Check for linearity\n",
    "plt.scatter(X,y)"
   ]
  },
  {
   "cell_type": "code",
   "execution_count": 50,
   "id": "e85e1c66",
   "metadata": {},
   "outputs": [
    {
     "data": {
      "text/html": [
       "<table class=\"simpletable\">\n",
       "<caption>OLS Regression Results</caption>\n",
       "<tr>\n",
       "  <th>Dep. Variable:</th>            <td>y</td>        <th>  R-squared:         </th>  <td>   0.412</td>  \n",
       "</tr>\n",
       "<tr>\n",
       "  <th>Model:</th>                   <td>OLS</td>       <th>  Adj. R-squared:    </th>  <td>   0.412</td>  \n",
       "</tr>\n",
       "<tr>\n",
       "  <th>Method:</th>             <td>Least Squares</td>  <th>  F-statistic:       </th>  <td>4.590e+04</td> \n",
       "</tr>\n",
       "<tr>\n",
       "  <th>Date:</th>             <td>Sun, 19 Feb 2023</td> <th>  Prob (F-statistic):</th>   <td>  0.00</td>   \n",
       "</tr>\n",
       "<tr>\n",
       "  <th>Time:</th>                 <td>20:33:47</td>     <th>  Log-Likelihood:    </th> <td>-2.4482e+05</td>\n",
       "</tr>\n",
       "<tr>\n",
       "  <th>No. Observations:</th>      <td> 65623</td>      <th>  AIC:               </th>  <td>4.896e+05</td> \n",
       "</tr>\n",
       "<tr>\n",
       "  <th>Df Residuals:</th>          <td> 65621</td>      <th>  BIC:               </th>  <td>4.897e+05</td> \n",
       "</tr>\n",
       "<tr>\n",
       "  <th>Df Model:</th>              <td>     1</td>      <th>                     </th>      <td> </td>     \n",
       "</tr>\n",
       "<tr>\n",
       "  <th>Covariance Type:</th>      <td>nonrobust</td>    <th>                     </th>      <td> </td>     \n",
       "</tr>\n",
       "</table>\n",
       "<table class=\"simpletable\">\n",
       "<tr>\n",
       "      <td></td>         <th>coef</th>     <th>std err</th>      <th>t</th>      <th>P>|t|</th>  <th>[0.025</th>    <th>0.975]</th>  \n",
       "</tr>\n",
       "<tr>\n",
       "  <th>Intercept</th> <td>    1.8650</td> <td>    0.042</td> <td>   44.846</td> <td> 0.000</td> <td>    1.783</td> <td>    1.946</td>\n",
       "</tr>\n",
       "<tr>\n",
       "  <th>X</th>         <td>    4.1665</td> <td>    0.019</td> <td>  214.232</td> <td> 0.000</td> <td>    4.128</td> <td>    4.205</td>\n",
       "</tr>\n",
       "</table>\n",
       "<table class=\"simpletable\">\n",
       "<tr>\n",
       "  <th>Omnibus:</th>       <td>88798.182</td> <th>  Durbin-Watson:     </th>   <td>   1.300</td>  \n",
       "</tr>\n",
       "<tr>\n",
       "  <th>Prob(Omnibus):</th>  <td> 0.000</td>   <th>  Jarque-Bera (JB):  </th> <td>53944621.317</td>\n",
       "</tr>\n",
       "<tr>\n",
       "  <th>Skew:</th>           <td> 7.435</td>   <th>  Prob(JB):          </th>   <td>    0.00</td>  \n",
       "</tr>\n",
       "<tr>\n",
       "  <th>Kurtosis:</th>       <td>142.670</td>  <th>  Cond. No.          </th>   <td>    2.32</td>  \n",
       "</tr>\n",
       "</table><br/><br/>Notes:<br/>[1] Standard Errors assume that the covariance matrix of the errors is correctly specified."
      ],
      "text/plain": [
       "<class 'statsmodels.iolib.summary.Summary'>\n",
       "\"\"\"\n",
       "                            OLS Regression Results                            \n",
       "==============================================================================\n",
       "Dep. Variable:                      y   R-squared:                       0.412\n",
       "Model:                            OLS   Adj. R-squared:                  0.412\n",
       "Method:                 Least Squares   F-statistic:                 4.590e+04\n",
       "Date:                Sun, 19 Feb 2023   Prob (F-statistic):               0.00\n",
       "Time:                        20:33:47   Log-Likelihood:            -2.4482e+05\n",
       "No. Observations:               65623   AIC:                         4.896e+05\n",
       "Df Residuals:                   65621   BIC:                         4.897e+05\n",
       "Df Model:                           1                                         \n",
       "Covariance Type:            nonrobust                                         \n",
       "==============================================================================\n",
       "                 coef    std err          t      P>|t|      [0.025      0.975]\n",
       "------------------------------------------------------------------------------\n",
       "Intercept      1.8650      0.042     44.846      0.000       1.783       1.946\n",
       "X              4.1665      0.019    214.232      0.000       4.128       4.205\n",
       "==============================================================================\n",
       "Omnibus:                    88798.182   Durbin-Watson:                   1.300\n",
       "Prob(Omnibus):                  0.000   Jarque-Bera (JB):         53944621.317\n",
       "Skew:                           7.435   Prob(JB):                         0.00\n",
       "Kurtosis:                     142.670   Cond. No.                         2.32\n",
       "==============================================================================\n",
       "\n",
       "Notes:\n",
       "[1] Standard Errors assume that the covariance matrix of the errors is correctly specified.\n",
       "\"\"\""
      ]
     },
     "execution_count": 50,
     "metadata": {},
     "output_type": "execute_result"
    }
   ],
   "source": [
    "#Run the OLS model\n",
    "f = 'y ~ X'\n",
    "test = ols(f, data = CD_new4).fit()\n",
    "\n",
    "#View the output\n",
    "test.summary()"
   ]
  },
  {
   "cell_type": "code",
   "execution_count": 52,
   "id": "3286b7fa",
   "metadata": {},
   "outputs": [
    {
     "name": "stdout",
     "output_type": "stream",
     "text": [
      "Parameters:  Intercept    1.864972\n",
      "X            4.166514\n",
      "dtype: float64\n",
      "Standard errors:  Intercept    0.041586\n",
      "X            0.019449\n",
      "dtype: float64\n",
      "Predicted values:  [ 1.86497162  1.86497162  1.86497162 ... 18.53102587  6.03148518\n",
      " 18.53102587]\n"
     ]
    }
   ],
   "source": [
    "#Extract the estimated parameters\n",
    "print(\"Parameters: \", test.params)  \n",
    "\n",
    "#Extract the standard errors\n",
    "print(\"Standard errors: \", test.bse)  \n",
    "\n",
    "#Extract the predicted values\n",
    "print(\"Predicted values: \", test.predict()) "
   ]
  },
  {
   "cell_type": "markdown",
   "id": "0d13702d",
   "metadata": {},
   "source": [
    "Spend VS Impressions"
   ]
  },
  {
   "cell_type": "code",
   "execution_count": 18,
   "id": "8bfaf968",
   "metadata": {},
   "outputs": [
    {
     "data": {
      "text/plain": [
       "<matplotlib.collections.PathCollection at 0x7fa808cca730>"
      ]
     },
     "execution_count": 18,
     "metadata": {},
     "output_type": "execute_result"
    },
    {
     "data": {
      "image/png": "[encoded data removed]",
      "text/plain": [
       "<Figure size 432x288 with 1 Axes>"
      ]
     },
     "metadata": {},
     "output_type": "display_data"
    }
   ],
   "source": [
    "#Independent variable\n",
    "y = CD_new2[\"Spend\"] \n",
    "\n",
    "#Dependent variable\n",
    "X = CD_new2[\"Impressions\"]\n",
    "\n",
    "#Check for linearity\n",
    "plt.scatter(X,y)"
   ]
  },
  {
   "cell_type": "code",
   "execution_count": 19,
   "id": "89a3bbdc",
   "metadata": {},
   "outputs": [
    {
     "data": {
      "text/html": [
       "<table class=\"simpletable\">\n",
       "<caption>OLS Regression Results</caption>\n",
       "<tr>\n",
       "  <th>Dep. Variable:</th>            <td>y</td>        <th>  R-squared:         </th> <td>   0.721</td> \n",
       "</tr>\n",
       "<tr>\n",
       "  <th>Model:</th>                   <td>OLS</td>       <th>  Adj. R-squared:    </th> <td>   0.721</td> \n",
       "</tr>\n",
       "<tr>\n",
       "  <th>Method:</th>             <td>Least Squares</td>  <th>  F-statistic:       </th> <td>3.936e+04</td>\n",
       "</tr>\n",
       "<tr>\n",
       "  <th>Date:</th>             <td>Sun, 19 Feb 2023</td> <th>  Prob (F-statistic):</th>  <td>  0.00</td>  \n",
       "</tr>\n",
       "<tr>\n",
       "  <th>Time:</th>                 <td>20:18:48</td>     <th>  Log-Likelihood:    </th> <td> -52582.</td> \n",
       "</tr>\n",
       "<tr>\n",
       "  <th>No. Observations:</th>      <td> 15262</td>      <th>  AIC:               </th> <td>1.052e+05</td>\n",
       "</tr>\n",
       "<tr>\n",
       "  <th>Df Residuals:</th>          <td> 15260</td>      <th>  BIC:               </th> <td>1.052e+05</td>\n",
       "</tr>\n",
       "<tr>\n",
       "  <th>Df Model:</th>              <td>     1</td>      <th>                     </th>     <td> </td>    \n",
       "</tr>\n",
       "<tr>\n",
       "  <th>Covariance Type:</th>      <td>nonrobust</td>    <th>                     </th>     <td> </td>    \n",
       "</tr>\n",
       "</table>\n",
       "<table class=\"simpletable\">\n",
       "<tr>\n",
       "      <td></td>         <th>coef</th>     <th>std err</th>      <th>t</th>      <th>P>|t|</th>  <th>[0.025</th>    <th>0.975]</th>  \n",
       "</tr>\n",
       "<tr>\n",
       "  <th>Intercept</th> <td>   -0.2702</td> <td>    0.069</td> <td>   -3.905</td> <td> 0.000</td> <td>   -0.406</td> <td>   -0.135</td>\n",
       "</tr>\n",
       "<tr>\n",
       "  <th>X</th>         <td>    0.0072</td> <td> 3.61e-05</td> <td>  198.401</td> <td> 0.000</td> <td>    0.007</td> <td>    0.007</td>\n",
       "</tr>\n",
       "</table>\n",
       "<table class=\"simpletable\">\n",
       "<tr>\n",
       "  <th>Omnibus:</th>       <td>25420.178</td> <th>  Durbin-Watson:     </th>   <td>   0.712</td>  \n",
       "</tr>\n",
       "<tr>\n",
       "  <th>Prob(Omnibus):</th>  <td> 0.000</td>   <th>  Jarque-Bera (JB):  </th> <td>32663128.682</td>\n",
       "</tr>\n",
       "<tr>\n",
       "  <th>Skew:</th>           <td>11.100</td>   <th>  Prob(JB):          </th>   <td>    0.00</td>  \n",
       "</tr>\n",
       "<tr>\n",
       "  <th>Kurtosis:</th>       <td>228.546</td>  <th>  Cond. No.          </th>   <td>2.16e+03</td>  \n",
       "</tr>\n",
       "</table><br/><br/>Notes:<br/>[1] Standard Errors assume that the covariance matrix of the errors is correctly specified.<br/>[2] The condition number is large, 2.16e+03. This might indicate that there are<br/>strong multicollinearity or other numerical problems."
      ],
      "text/plain": [
       "<class 'statsmodels.iolib.summary.Summary'>\n",
       "\"\"\"\n",
       "                            OLS Regression Results                            \n",
       "==============================================================================\n",
       "Dep. Variable:                      y   R-squared:                       0.721\n",
       "Model:                            OLS   Adj. R-squared:                  0.721\n",
       "Method:                 Least Squares   F-statistic:                 3.936e+04\n",
       "Date:                Sun, 19 Feb 2023   Prob (F-statistic):               0.00\n",
       "Time:                        20:18:48   Log-Likelihood:                -52582.\n",
       "No. Observations:               15262   AIC:                         1.052e+05\n",
       "Df Residuals:                   15260   BIC:                         1.052e+05\n",
       "Df Model:                           1                                         \n",
       "Covariance Type:            nonrobust                                         \n",
       "==============================================================================\n",
       "                 coef    std err          t      P>|t|      [0.025      0.975]\n",
       "------------------------------------------------------------------------------\n",
       "Intercept     -0.2702      0.069     -3.905      0.000      -0.406      -0.135\n",
       "X              0.0072   3.61e-05    198.401      0.000       0.007       0.007\n",
       "==============================================================================\n",
       "Omnibus:                    25420.178   Durbin-Watson:                   0.712\n",
       "Prob(Omnibus):                  0.000   Jarque-Bera (JB):         32663128.682\n",
       "Skew:                          11.100   Prob(JB):                         0.00\n",
       "Kurtosis:                     228.546   Cond. No.                     2.16e+03\n",
       "==============================================================================\n",
       "\n",
       "Notes:\n",
       "[1] Standard Errors assume that the covariance matrix of the errors is correctly specified.\n",
       "[2] The condition number is large, 2.16e+03. This might indicate that there are\n",
       "strong multicollinearity or other numerical problems.\n",
       "\"\"\""
      ]
     },
     "execution_count": 19,
     "metadata": {},
     "output_type": "execute_result"
    }
   ],
   "source": [
    "#Run the OLS model\n",
    "f = 'y ~ X'\n",
    "test = ols(f, data = CD_new2).fit()\n",
    "\n",
    "#View the output\n",
    "test.summary()"
   ]
  },
  {
   "cell_type": "code",
   "execution_count": 20,
   "id": "21d4ef2a",
   "metadata": {},
   "outputs": [
    {
     "name": "stdout",
     "output_type": "stream",
     "text": [
      "Parameters:  Intercept   -0.270195\n",
      "X            0.007154\n",
      "dtype: float64\n",
      "Standard errors:  Intercept    0.069184\n",
      "X            0.000036\n",
      "dtype: float64\n",
      "Predicted values:  [ 2.34811525  2.34811525  0.60257516 ... 89.89696607 94.98335542\n",
      " 93.86735438]\n"
     ]
    }
   ],
   "source": [
    "#Extract the estimated parameters\n",
    "print(\"Parameters: \", test.params)  \n",
    "\n",
    "#Extract the standard errors\n",
    "print(\"Standard errors: \", test.bse)  \n",
    "\n",
    "#Extract the predicted values\n",
    "print(\"Predicted values: \", test.predict())  "
   ]
  },
  {
   "cell_type": "markdown",
   "id": "d58b2ecd",
   "metadata": {},
   "source": [
    "Second data"
   ]
  },
  {
   "cell_type": "code",
   "execution_count": 53,
   "id": "9044b6e5",
   "metadata": {},
   "outputs": [
    {
     "data": {
      "text/plain": [
       "<matplotlib.collections.PathCollection at 0x7fa7e07a0610>"
      ]
     },
     "execution_count": 53,
     "metadata": {},
     "output_type": "execute_result"
    },
    {
     "data": {
      "image/png": "[encoded data removed]",
      "text/plain": [
       "<Figure size 432x288 with 1 Axes>"
      ]
     },
     "metadata": {},
     "output_type": "display_data"
    }
   ],
   "source": [
    "#Independent variable\n",
    "y = CD_new4[\"Spend\"] \n",
    "\n",
    "#Dependent variable\n",
    "X = CD_new4[\"Impressions\"]\n",
    "\n",
    "#Check for linearity\n",
    "plt.scatter(X,y)"
   ]
  },
  {
   "cell_type": "code",
   "execution_count": 54,
   "id": "f8a5d8cd",
   "metadata": {},
   "outputs": [
    {
     "data": {
      "text/html": [
       "<table class=\"simpletable\">\n",
       "<caption>OLS Regression Results</caption>\n",
       "<tr>\n",
       "  <th>Dep. Variable:</th>            <td>y</td>        <th>  R-squared:         </th>  <td>   0.525</td>  \n",
       "</tr>\n",
       "<tr>\n",
       "  <th>Model:</th>                   <td>OLS</td>       <th>  Adj. R-squared:    </th>  <td>   0.525</td>  \n",
       "</tr>\n",
       "<tr>\n",
       "  <th>Method:</th>             <td>Least Squares</td>  <th>  F-statistic:       </th>  <td>7.253e+04</td> \n",
       "</tr>\n",
       "<tr>\n",
       "  <th>Date:</th>             <td>Sun, 19 Feb 2023</td> <th>  Prob (F-statistic):</th>   <td>  0.00</td>   \n",
       "</tr>\n",
       "<tr>\n",
       "  <th>Time:</th>                 <td>20:35:26</td>     <th>  Log-Likelihood:    </th> <td>-2.3779e+05</td>\n",
       "</tr>\n",
       "<tr>\n",
       "  <th>No. Observations:</th>      <td> 65623</td>      <th>  AIC:               </th>  <td>4.756e+05</td> \n",
       "</tr>\n",
       "<tr>\n",
       "  <th>Df Residuals:</th>          <td> 65621</td>      <th>  BIC:               </th>  <td>4.756e+05</td> \n",
       "</tr>\n",
       "<tr>\n",
       "  <th>Df Model:</th>              <td>     1</td>      <th>                     </th>      <td> </td>     \n",
       "</tr>\n",
       "<tr>\n",
       "  <th>Covariance Type:</th>      <td>nonrobust</td>    <th>                     </th>      <td> </td>     \n",
       "</tr>\n",
       "</table>\n",
       "<table class=\"simpletable\">\n",
       "<tr>\n",
       "      <td></td>         <th>coef</th>     <th>std err</th>      <th>t</th>      <th>P>|t|</th>  <th>[0.025</th>    <th>0.975]</th>  \n",
       "</tr>\n",
       "<tr>\n",
       "  <th>Intercept</th> <td>    1.4577</td> <td>    0.037</td> <td>   38.966</td> <td> 0.000</td> <td>    1.384</td> <td>    1.531</td>\n",
       "</tr>\n",
       "<tr>\n",
       "  <th>X</th>         <td>    0.0061</td> <td> 2.28e-05</td> <td>  269.308</td> <td> 0.000</td> <td>    0.006</td> <td>    0.006</td>\n",
       "</tr>\n",
       "</table>\n",
       "<table class=\"simpletable\">\n",
       "<tr>\n",
       "  <th>Omnibus:</th>       <td>102136.643</td> <th>  Durbin-Watson:     </th>   <td>   1.297</td>  \n",
       "</tr>\n",
       "<tr>\n",
       "  <th>Prob(Omnibus):</th>   <td> 0.000</td>   <th>  Jarque-Bera (JB):  </th> <td>58987874.411</td>\n",
       "</tr>\n",
       "<tr>\n",
       "  <th>Skew:</th>            <td>10.000</td>   <th>  Prob(JB):          </th>   <td>    0.00</td>  \n",
       "</tr>\n",
       "<tr>\n",
       "  <th>Kurtosis:</th>        <td>148.511</td>  <th>  Cond. No.          </th>   <td>1.73e+03</td>  \n",
       "</tr>\n",
       "</table><br/><br/>Notes:<br/>[1] Standard Errors assume that the covariance matrix of the errors is correctly specified.<br/>[2] The condition number is large, 1.73e+03. This might indicate that there are<br/>strong multicollinearity or other numerical problems."
      ],
      "text/plain": [
       "<class 'statsmodels.iolib.summary.Summary'>\n",
       "\"\"\"\n",
       "                            OLS Regression Results                            \n",
       "==============================================================================\n",
       "Dep. Variable:                      y   R-squared:                       0.525\n",
       "Model:                            OLS   Adj. R-squared:                  0.525\n",
       "Method:                 Least Squares   F-statistic:                 7.253e+04\n",
       "Date:                Sun, 19 Feb 2023   Prob (F-statistic):               0.00\n",
       "Time:                        20:35:26   Log-Likelihood:            -2.3779e+05\n",
       "No. Observations:               65623   AIC:                         4.756e+05\n",
       "Df Residuals:                   65621   BIC:                         4.756e+05\n",
       "Df Model:                           1                                         \n",
       "Covariance Type:            nonrobust                                         \n",
       "==============================================================================\n",
       "                 coef    std err          t      P>|t|      [0.025      0.975]\n",
       "------------------------------------------------------------------------------\n",
       "Intercept      1.4577      0.037     38.966      0.000       1.384       1.531\n",
       "X              0.0061   2.28e-05    269.308      0.000       0.006       0.006\n",
       "==============================================================================\n",
       "Omnibus:                   102136.643   Durbin-Watson:                   1.297\n",
       "Prob(Omnibus):                  0.000   Jarque-Bera (JB):         58987874.411\n",
       "Skew:                          10.000   Prob(JB):                         0.00\n",
       "Kurtosis:                     148.511   Cond. No.                     1.73e+03\n",
       "==============================================================================\n",
       "\n",
       "Notes:\n",
       "[1] Standard Errors assume that the covariance matrix of the errors is correctly specified.\n",
       "[2] The condition number is large, 1.73e+03. This might indicate that there are\n",
       "strong multicollinearity or other numerical problems.\n",
       "\"\"\""
      ]
     },
     "execution_count": 54,
     "metadata": {},
     "output_type": "execute_result"
    }
   ],
   "source": [
    "#Run the OLS model\n",
    "f = 'y ~ X'\n",
    "test = ols(f, data = CD_new4).fit()\n",
    "\n",
    "#View the output\n",
    "test.summary()"
   ]
  },
  {
   "cell_type": "code",
   "execution_count": 55,
   "id": "1a167814",
   "metadata": {},
   "outputs": [
    {
     "name": "stdout",
     "output_type": "stream",
     "text": [
      "Parameters:  Intercept    1.457690\n",
      "X            0.006144\n",
      "dtype: float64\n",
      "Standard errors:  Intercept    0.037409\n",
      "X            0.000023\n",
      "dtype: float64\n",
      "Predicted values:  [ 2.18887782  1.51299027  1.61744562 ... 78.90211424 83.27080556\n",
      " 82.31227413]\n"
     ]
    }
   ],
   "source": [
    "#Extract the estimated parameters\n",
    "print(\"Parameters: \", test.params)  \n",
    "\n",
    "#Extract the standard errors\n",
    "print(\"Standard errors: \", test.bse)  \n",
    "\n",
    "#Extract the predicted values\n",
    "print(\"Predicted values: \", test.predict())  "
   ]
  },
  {
   "cell_type": "markdown",
   "id": "d3a37ea5",
   "metadata": {},
   "source": [
    "Spend VS Reach "
   ]
  },
  {
   "cell_type": "code",
   "execution_count": 21,
   "id": "da4a7f90",
   "metadata": {},
   "outputs": [
    {
     "data": {
      "text/plain": [
       "<matplotlib.collections.PathCollection at 0x7fa81cc164c0>"
      ]
     },
     "execution_count": 21,
     "metadata": {},
     "output_type": "execute_result"
    },
    {
     "data": {
      "image/png": "[encoded data removed]",
      "text/plain": [
       "<Figure size 432x288 with 1 Axes>"
      ]
     },
     "metadata": {},
     "output_type": "display_data"
    }
   ],
   "source": [
    "#Independent variable\n",
    "y = CD_new2[\"Spend\"] \n",
    "\n",
    "#Dependent variable\n",
    "X = CD_new2[\"Reach\"]\n",
    "\n",
    "#Check for linearity\n",
    "plt.scatter(X,y)"
   ]
  },
  {
   "cell_type": "code",
   "execution_count": 22,
   "id": "5ae0fd9c",
   "metadata": {},
   "outputs": [
    {
     "data": {
      "text/html": [
       "<table class=\"simpletable\">\n",
       "<caption>OLS Regression Results</caption>\n",
       "<tr>\n",
       "  <th>Dep. Variable:</th>            <td>y</td>        <th>  R-squared:         </th> <td>   0.232</td> \n",
       "</tr>\n",
       "<tr>\n",
       "  <th>Model:</th>                   <td>OLS</td>       <th>  Adj. R-squared:    </th> <td>   0.232</td> \n",
       "</tr>\n",
       "<tr>\n",
       "  <th>Method:</th>             <td>Least Squares</td>  <th>  F-statistic:       </th> <td>   4606.</td> \n",
       "</tr>\n",
       "<tr>\n",
       "  <th>Date:</th>             <td>Sun, 19 Feb 2023</td> <th>  Prob (F-statistic):</th>  <td>  0.00</td>  \n",
       "</tr>\n",
       "<tr>\n",
       "  <th>Time:</th>                 <td>20:18:54</td>     <th>  Log-Likelihood:    </th> <td> -60301.</td> \n",
       "</tr>\n",
       "<tr>\n",
       "  <th>No. Observations:</th>      <td> 15262</td>      <th>  AIC:               </th> <td>1.206e+05</td>\n",
       "</tr>\n",
       "<tr>\n",
       "  <th>Df Residuals:</th>          <td> 15260</td>      <th>  BIC:               </th> <td>1.206e+05</td>\n",
       "</tr>\n",
       "<tr>\n",
       "  <th>Df Model:</th>              <td>     1</td>      <th>                     </th>     <td> </td>    \n",
       "</tr>\n",
       "<tr>\n",
       "  <th>Covariance Type:</th>      <td>nonrobust</td>    <th>                     </th>     <td> </td>    \n",
       "</tr>\n",
       "</table>\n",
       "<table class=\"simpletable\">\n",
       "<tr>\n",
       "      <td></td>         <th>coef</th>     <th>std err</th>      <th>t</th>      <th>P>|t|</th>  <th>[0.025</th>    <th>0.975]</th>  \n",
       "</tr>\n",
       "<tr>\n",
       "  <th>Intercept</th> <td>    2.3070</td> <td>    0.116</td> <td>   19.920</td> <td> 0.000</td> <td>    2.080</td> <td>    2.534</td>\n",
       "</tr>\n",
       "<tr>\n",
       "  <th>X</th>         <td>    0.0094</td> <td>    0.000</td> <td>   67.867</td> <td> 0.000</td> <td>    0.009</td> <td>    0.010</td>\n",
       "</tr>\n",
       "</table>\n",
       "<table class=\"simpletable\">\n",
       "<tr>\n",
       "  <th>Omnibus:</th>       <td>30569.824</td> <th>  Durbin-Watson:     </th>   <td>   0.567</td>  \n",
       "</tr>\n",
       "<tr>\n",
       "  <th>Prob(Omnibus):</th>  <td> 0.000</td>   <th>  Jarque-Bera (JB):  </th> <td>88710897.039</td>\n",
       "</tr>\n",
       "<tr>\n",
       "  <th>Skew:</th>           <td>16.459</td>   <th>  Prob(JB):          </th>   <td>    0.00</td>  \n",
       "</tr>\n",
       "<tr>\n",
       "  <th>Kurtosis:</th>       <td>375.045</td>  <th>  Cond. No.          </th>   <td>    952.</td>  \n",
       "</tr>\n",
       "</table><br/><br/>Notes:<br/>[1] Standard Errors assume that the covariance matrix of the errors is correctly specified."
      ],
      "text/plain": [
       "<class 'statsmodels.iolib.summary.Summary'>\n",
       "\"\"\"\n",
       "                            OLS Regression Results                            \n",
       "==============================================================================\n",
       "Dep. Variable:                      y   R-squared:                       0.232\n",
       "Model:                            OLS   Adj. R-squared:                  0.232\n",
       "Method:                 Least Squares   F-statistic:                     4606.\n",
       "Date:                Sun, 19 Feb 2023   Prob (F-statistic):               0.00\n",
       "Time:                        20:18:54   Log-Likelihood:                -60301.\n",
       "No. Observations:               15262   AIC:                         1.206e+05\n",
       "Df Residuals:                   15260   BIC:                         1.206e+05\n",
       "Df Model:                           1                                         \n",
       "Covariance Type:            nonrobust                                         \n",
       "==============================================================================\n",
       "                 coef    std err          t      P>|t|      [0.025      0.975]\n",
       "------------------------------------------------------------------------------\n",
       "Intercept      2.3070      0.116     19.920      0.000       2.080       2.534\n",
       "X              0.0094      0.000     67.867      0.000       0.009       0.010\n",
       "==============================================================================\n",
       "Omnibus:                    30569.824   Durbin-Watson:                   0.567\n",
       "Prob(Omnibus):                  0.000   Jarque-Bera (JB):         88710897.039\n",
       "Skew:                          16.459   Prob(JB):                         0.00\n",
       "Kurtosis:                     375.045   Cond. No.                         952.\n",
       "==============================================================================\n",
       "\n",
       "Notes:\n",
       "[1] Standard Errors assume that the covariance matrix of the errors is correctly specified.\n",
       "\"\"\""
      ]
     },
     "execution_count": 22,
     "metadata": {},
     "output_type": "execute_result"
    }
   ],
   "source": [
    "#Run the OLS model\n",
    "f = 'y ~ X'\n",
    "test = ols(f, data = CD_new2).fit()\n",
    "\n",
    "#View the output\n",
    "test.summary()"
   ]
  },
  {
   "cell_type": "code",
   "execution_count": 23,
   "id": "43ca4216",
   "metadata": {},
   "outputs": [
    {
     "name": "stdout",
     "output_type": "stream",
     "text": [
      "Parameters:  Intercept    2.306984\n",
      "X            0.009393\n",
      "dtype: float64\n",
      "Standard errors:  Intercept    0.115812\n",
      "X            0.000138\n",
      "dtype: float64\n",
      "Predicted values:  [2.60754514 2.60754514 2.35394687 ... 6.28941629 6.74025766 6.45848181]\n"
     ]
    }
   ],
   "source": [
    "#Extract the estimated parameters\n",
    "print(\"Parameters: \", test.params)  \n",
    "\n",
    "#Extract the standard errors\n",
    "print(\"Standard errors: \", test.bse)  \n",
    "\n",
    "#Extract the predicted values\n",
    "print(\"Predicted values: \", test.predict())  "
   ]
  },
  {
   "cell_type": "markdown",
   "id": "ac0b4939",
   "metadata": {},
   "source": [
    "Second data"
   ]
  },
  {
   "cell_type": "code",
   "execution_count": 56,
   "id": "7a672d85",
   "metadata": {},
   "outputs": [
    {
     "data": {
      "text/plain": [
       "<matplotlib.collections.PathCollection at 0x7fa81e0a3a60>"
      ]
     },
     "execution_count": 56,
     "metadata": {},
     "output_type": "execute_result"
    },
    {
     "data": {
      "image/png": "[encoded data removed]",
      "text/plain": [
       "<Figure size 432x288 with 1 Axes>"
      ]
     },
     "metadata": {},
     "output_type": "display_data"
    }
   ],
   "source": [
    "#Independent variable\n",
    "y = CD_new4[\"Spend\"] \n",
    "\n",
    "#Dependent variable\n",
    "X = CD_new4[\"Reach\"]\n",
    "\n",
    "#Check for linearity\n",
    "plt.scatter(X,y)"
   ]
  },
  {
   "cell_type": "code",
   "execution_count": 57,
   "id": "84f0799c",
   "metadata": {},
   "outputs": [
    {
     "data": {
      "text/html": [
       "<table class=\"simpletable\">\n",
       "<caption>OLS Regression Results</caption>\n",
       "<tr>\n",
       "  <th>Dep. Variable:</th>            <td>y</td>        <th>  R-squared:         </th>  <td>   0.228</td>  \n",
       "</tr>\n",
       "<tr>\n",
       "  <th>Model:</th>                   <td>OLS</td>       <th>  Adj. R-squared:    </th>  <td>   0.228</td>  \n",
       "</tr>\n",
       "<tr>\n",
       "  <th>Method:</th>             <td>Least Squares</td>  <th>  F-statistic:       </th>  <td>1.939e+04</td> \n",
       "</tr>\n",
       "<tr>\n",
       "  <th>Date:</th>             <td>Sun, 19 Feb 2023</td> <th>  Prob (F-statistic):</th>   <td>  0.00</td>   \n",
       "</tr>\n",
       "<tr>\n",
       "  <th>Time:</th>                 <td>20:36:19</td>     <th>  Log-Likelihood:    </th> <td>-2.5373e+05</td>\n",
       "</tr>\n",
       "<tr>\n",
       "  <th>No. Observations:</th>      <td> 65623</td>      <th>  AIC:               </th>  <td>5.075e+05</td> \n",
       "</tr>\n",
       "<tr>\n",
       "  <th>Df Residuals:</th>          <td> 65621</td>      <th>  BIC:               </th>  <td>5.075e+05</td> \n",
       "</tr>\n",
       "<tr>\n",
       "  <th>Df Model:</th>              <td>     1</td>      <th>                     </th>      <td> </td>     \n",
       "</tr>\n",
       "<tr>\n",
       "  <th>Covariance Type:</th>      <td>nonrobust</td>    <th>                     </th>      <td> </td>     \n",
       "</tr>\n",
       "</table>\n",
       "<table class=\"simpletable\">\n",
       "<tr>\n",
       "      <td></td>         <th>coef</th>     <th>std err</th>      <th>t</th>      <th>P>|t|</th>  <th>[0.025</th>    <th>0.975]</th>  \n",
       "</tr>\n",
       "<tr>\n",
       "  <th>Intercept</th> <td>    2.6340</td> <td>    0.048</td> <td>   55.405</td> <td> 0.000</td> <td>    2.541</td> <td>    2.727</td>\n",
       "</tr>\n",
       "<tr>\n",
       "  <th>X</th>         <td>    0.0148</td> <td>    0.000</td> <td>  139.232</td> <td> 0.000</td> <td>    0.015</td> <td>    0.015</td>\n",
       "</tr>\n",
       "</table>\n",
       "<table class=\"simpletable\">\n",
       "<tr>\n",
       "  <th>Omnibus:</th>       <td>104519.276</td> <th>  Durbin-Watson:     </th>   <td>   1.270</td>  \n",
       "</tr>\n",
       "<tr>\n",
       "  <th>Prob(Omnibus):</th>   <td> 0.000</td>   <th>  Jarque-Bera (JB):  </th> <td>94152654.551</td>\n",
       "</tr>\n",
       "<tr>\n",
       "  <th>Skew:</th>            <td>10.278</td>   <th>  Prob(JB):          </th>   <td>    0.00</td>  \n",
       "</tr>\n",
       "<tr>\n",
       "  <th>Kurtosis:</th>        <td>187.422</td>  <th>  Cond. No.          </th>   <td>    470.</td>  \n",
       "</tr>\n",
       "</table><br/><br/>Notes:<br/>[1] Standard Errors assume that the covariance matrix of the errors is correctly specified."
      ],
      "text/plain": [
       "<class 'statsmodels.iolib.summary.Summary'>\n",
       "\"\"\"\n",
       "                            OLS Regression Results                            \n",
       "==============================================================================\n",
       "Dep. Variable:                      y   R-squared:                       0.228\n",
       "Model:                            OLS   Adj. R-squared:                  0.228\n",
       "Method:                 Least Squares   F-statistic:                 1.939e+04\n",
       "Date:                Sun, 19 Feb 2023   Prob (F-statistic):               0.00\n",
       "Time:                        20:36:19   Log-Likelihood:            -2.5373e+05\n",
       "No. Observations:               65623   AIC:                         5.075e+05\n",
       "Df Residuals:                   65621   BIC:                         5.075e+05\n",
       "Df Model:                           1                                         \n",
       "Covariance Type:            nonrobust                                         \n",
       "==============================================================================\n",
       "                 coef    std err          t      P>|t|      [0.025      0.975]\n",
       "------------------------------------------------------------------------------\n",
       "Intercept      2.6340      0.048     55.405      0.000       2.541       2.727\n",
       "X              0.0148      0.000    139.232      0.000       0.015       0.015\n",
       "==============================================================================\n",
       "Omnibus:                   104519.276   Durbin-Watson:                   1.270\n",
       "Prob(Omnibus):                  0.000   Jarque-Bera (JB):         94152654.551\n",
       "Skew:                          10.278   Prob(JB):                         0.00\n",
       "Kurtosis:                     187.422   Cond. No.                         470.\n",
       "==============================================================================\n",
       "\n",
       "Notes:\n",
       "[1] Standard Errors assume that the covariance matrix of the errors is correctly specified.\n",
       "\"\"\""
      ]
     },
     "execution_count": 57,
     "metadata": {},
     "output_type": "execute_result"
    }
   ],
   "source": [
    "#Run the OLS model\n",
    "f = 'y ~ X'\n",
    "test = ols(f, data = CD_new4).fit()\n",
    "\n",
    "#View the output\n",
    "test.summary()"
   ]
  },
  {
   "cell_type": "code",
   "execution_count": 58,
   "id": "893d803c",
   "metadata": {},
   "outputs": [
    {
     "name": "stdout",
     "output_type": "stream",
     "text": [
      "Parameters:  Intercept    2.633995\n",
      "X            0.014838\n",
      "dtype: float64\n",
      "Standard errors:  Intercept    0.047541\n",
      "X            0.000107\n",
      "dtype: float64\n",
      "Predicted values:  [3.56880334 2.75270116 2.88624515 ... 8.92540129 9.63763592 9.19248928]\n"
     ]
    }
   ],
   "source": [
    "#Extract the estimated parameters\n",
    "print(\"Parameters: \", test.params)  \n",
    "\n",
    "#Extract the standard errors\n",
    "print(\"Standard errors: \", test.bse)  \n",
    "\n",
    "#Extract the predicted values\n",
    "print(\"Predicted values: \", test.predict())  "
   ]
  },
  {
   "cell_type": "markdown",
   "id": "ba5e07fe",
   "metadata": {},
   "source": [
    "### Multiple Linear regression"
   ]
  },
  {
   "cell_type": "code",
   "execution_count": 24,
   "id": "45842f6d",
   "metadata": {},
   "outputs": [],
   "source": [
    "# Import all the necessary packages.\n",
    "import numpy as np\n",
    "import pandas as pd\n",
    "import statsmodels.api as sm\n",
    "import statsmodels.stats.api as sms\n",
    "import sklearn\n",
    "import matplotlib.pyplot as plt\n",
    "\n",
    "from sklearn import linear_model\n",
    "from statsmodels.stats.outliers_influence import variance_inflation_factor\n",
    "from sklearn.model_selection import train_test_split\n",
    "from sklearn import metrics\n",
    "from sklearn.linear_model import LinearRegression\n",
    "from statsmodels.formula.api import ols\n",
    "\n",
    "import warnings  \n",
    "warnings.filterwarnings('ignore')  "
   ]
  },
  {
   "cell_type": "code",
   "execution_count": 27,
   "id": "1a67c03a",
   "metadata": {},
   "outputs": [
    {
     "data": {
      "text/html": [
       "<div>\n",
       "<style scoped>\n",
       "    .dataframe tbody tr th:only-of-type {\n",
       "        vertical-align: middle;\n",
       "    }\n",
       "\n",
       "    .dataframe tbody tr th {\n",
       "        vertical-align: top;\n",
       "    }\n",
       "\n",
       "    .dataframe thead th {\n",
       "        text-align: right;\n",
       "    }\n",
       "</style>\n",
       "<table border=\"1\" class=\"dataframe\">\n",
       "  <thead>\n",
       "    <tr style=\"text-align: right;\">\n",
       "      <th></th>\n",
       "      <th>Clicks</th>\n",
       "      <th>Spend</th>\n",
       "      <th>Impressions</th>\n",
       "      <th>Reach</th>\n",
       "      <th>CTR</th>\n",
       "      <th>CTR Score</th>\n",
       "      <th>Weighted CTR Score</th>\n",
       "    </tr>\n",
       "  </thead>\n",
       "  <tbody>\n",
       "    <tr>\n",
       "      <th>Clicks</th>\n",
       "      <td>1.000000</td>\n",
       "      <td>0.531092</td>\n",
       "      <td>0.774009</td>\n",
       "      <td>0.740176</td>\n",
       "      <td>0.068023</td>\n",
       "      <td>0.235686</td>\n",
       "      <td>0.858945</td>\n",
       "    </tr>\n",
       "    <tr>\n",
       "      <th>Spend</th>\n",
       "      <td>0.531092</td>\n",
       "      <td>1.000000</td>\n",
       "      <td>0.848899</td>\n",
       "      <td>0.481511</td>\n",
       "      <td>-0.077877</td>\n",
       "      <td>-0.174747</td>\n",
       "      <td>0.725999</td>\n",
       "    </tr>\n",
       "    <tr>\n",
       "      <th>Impressions</th>\n",
       "      <td>0.774009</td>\n",
       "      <td>0.848899</td>\n",
       "      <td>1.000000</td>\n",
       "      <td>0.847711</td>\n",
       "      <td>-0.087700</td>\n",
       "      <td>-0.169233</td>\n",
       "      <td>0.896426</td>\n",
       "    </tr>\n",
       "    <tr>\n",
       "      <th>Reach</th>\n",
       "      <td>0.740176</td>\n",
       "      <td>0.481511</td>\n",
       "      <td>0.847711</td>\n",
       "      <td>1.000000</td>\n",
       "      <td>-0.081174</td>\n",
       "      <td>-0.115770</td>\n",
       "      <td>0.772266</td>\n",
       "    </tr>\n",
       "    <tr>\n",
       "      <th>CTR</th>\n",
       "      <td>0.068023</td>\n",
       "      <td>-0.077877</td>\n",
       "      <td>-0.087700</td>\n",
       "      <td>-0.081174</td>\n",
       "      <td>1.000000</td>\n",
       "      <td>0.344485</td>\n",
       "      <td>-0.071780</td>\n",
       "    </tr>\n",
       "    <tr>\n",
       "      <th>CTR Score</th>\n",
       "      <td>0.235686</td>\n",
       "      <td>-0.174747</td>\n",
       "      <td>-0.169233</td>\n",
       "      <td>-0.115770</td>\n",
       "      <td>0.344485</td>\n",
       "      <td>1.000000</td>\n",
       "      <td>0.056658</td>\n",
       "    </tr>\n",
       "    <tr>\n",
       "      <th>Weighted CTR Score</th>\n",
       "      <td>0.858945</td>\n",
       "      <td>0.725999</td>\n",
       "      <td>0.896426</td>\n",
       "      <td>0.772266</td>\n",
       "      <td>-0.071780</td>\n",
       "      <td>0.056658</td>\n",
       "      <td>1.000000</td>\n",
       "    </tr>\n",
       "  </tbody>\n",
       "</table>\n",
       "</div>"
      ],
      "text/plain": [
       "                      Clicks     Spend  Impressions     Reach       CTR  \\\n",
       "Clicks              1.000000  0.531092     0.774009  0.740176  0.068023   \n",
       "Spend               0.531092  1.000000     0.848899  0.481511 -0.077877   \n",
       "Impressions         0.774009  0.848899     1.000000  0.847711 -0.087700   \n",
       "Reach               0.740176  0.481511     0.847711  1.000000 -0.081174   \n",
       "CTR                 0.068023 -0.077877    -0.087700 -0.081174  1.000000   \n",
       "CTR Score           0.235686 -0.174747    -0.169233 -0.115770  0.344485   \n",
       "Weighted CTR Score  0.858945  0.725999     0.896426  0.772266 -0.071780   \n",
       "\n",
       "                    CTR Score  Weighted CTR Score  \n",
       "Clicks               0.235686            0.858945  \n",
       "Spend               -0.174747            0.725999  \n",
       "Impressions         -0.169233            0.896426  \n",
       "Reach               -0.115770            0.772266  \n",
       "CTR                  0.344485           -0.071780  \n",
       "CTR Score            1.000000            0.056658  \n",
       "Weighted CTR Score   0.056658            1.000000  "
      ]
     },
     "execution_count": 27,
     "metadata": {},
     "output_type": "execute_result"
    }
   ],
   "source": [
    "CD_new2.corr()"
   ]
  },
  {
   "cell_type": "markdown",
   "id": "620de443",
   "metadata": {},
   "source": [
    "Second data"
   ]
  },
  {
   "cell_type": "code",
   "execution_count": 51,
   "id": "731f0687",
   "metadata": {},
   "outputs": [
    {
     "data": {
      "text/html": [
       "<div>\n",
       "<style scoped>\n",
       "    .dataframe tbody tr th:only-of-type {\n",
       "        vertical-align: middle;\n",
       "    }\n",
       "\n",
       "    .dataframe tbody tr th {\n",
       "        vertical-align: top;\n",
       "    }\n",
       "\n",
       "    .dataframe thead th {\n",
       "        text-align: right;\n",
       "    }\n",
       "</style>\n",
       "<table border=\"1\" class=\"dataframe\">\n",
       "  <thead>\n",
       "    <tr style=\"text-align: right;\">\n",
       "      <th></th>\n",
       "      <th>Clicks</th>\n",
       "      <th>Spend</th>\n",
       "      <th>Impressions</th>\n",
       "      <th>Reach</th>\n",
       "      <th>CTR</th>\n",
       "      <th>CTR Score</th>\n",
       "      <th>Weighted CTR Score</th>\n",
       "    </tr>\n",
       "  </thead>\n",
       "  <tbody>\n",
       "    <tr>\n",
       "      <th>Clicks</th>\n",
       "      <td>1.000000</td>\n",
       "      <td>0.641527</td>\n",
       "      <td>0.755484</td>\n",
       "      <td>0.566884</td>\n",
       "      <td>0.120237</td>\n",
       "      <td>0.327606</td>\n",
       "      <td>0.860636</td>\n",
       "    </tr>\n",
       "    <tr>\n",
       "      <th>Spend</th>\n",
       "      <td>0.641527</td>\n",
       "      <td>1.000000</td>\n",
       "      <td>0.724565</td>\n",
       "      <td>0.477544</td>\n",
       "      <td>-0.000854</td>\n",
       "      <td>0.060824</td>\n",
       "      <td>0.677730</td>\n",
       "    </tr>\n",
       "    <tr>\n",
       "      <th>Impressions</th>\n",
       "      <td>0.755484</td>\n",
       "      <td>0.724565</td>\n",
       "      <td>1.000000</td>\n",
       "      <td>0.605210</td>\n",
       "      <td>-0.031322</td>\n",
       "      <td>-0.021154</td>\n",
       "      <td>0.915495</td>\n",
       "    </tr>\n",
       "    <tr>\n",
       "      <th>Reach</th>\n",
       "      <td>0.566884</td>\n",
       "      <td>0.477544</td>\n",
       "      <td>0.605210</td>\n",
       "      <td>1.000000</td>\n",
       "      <td>-0.014530</td>\n",
       "      <td>0.049099</td>\n",
       "      <td>0.565913</td>\n",
       "    </tr>\n",
       "    <tr>\n",
       "      <th>CTR</th>\n",
       "      <td>0.120237</td>\n",
       "      <td>-0.000854</td>\n",
       "      <td>-0.031322</td>\n",
       "      <td>-0.014530</td>\n",
       "      <td>1.000000</td>\n",
       "      <td>0.380648</td>\n",
       "      <td>-0.011249</td>\n",
       "    </tr>\n",
       "    <tr>\n",
       "      <th>CTR Score</th>\n",
       "      <td>0.327606</td>\n",
       "      <td>0.060824</td>\n",
       "      <td>-0.021154</td>\n",
       "      <td>0.049099</td>\n",
       "      <td>0.380648</td>\n",
       "      <td>1.000000</td>\n",
       "      <td>0.155580</td>\n",
       "    </tr>\n",
       "    <tr>\n",
       "      <th>Weighted CTR Score</th>\n",
       "      <td>0.860636</td>\n",
       "      <td>0.677730</td>\n",
       "      <td>0.915495</td>\n",
       "      <td>0.565913</td>\n",
       "      <td>-0.011249</td>\n",
       "      <td>0.155580</td>\n",
       "      <td>1.000000</td>\n",
       "    </tr>\n",
       "  </tbody>\n",
       "</table>\n",
       "</div>"
      ],
      "text/plain": [
       "                      Clicks     Spend  Impressions     Reach       CTR  \\\n",
       "Clicks              1.000000  0.641527     0.755484  0.566884  0.120237   \n",
       "Spend               0.641527  1.000000     0.724565  0.477544 -0.000854   \n",
       "Impressions         0.755484  0.724565     1.000000  0.605210 -0.031322   \n",
       "Reach               0.566884  0.477544     0.605210  1.000000 -0.014530   \n",
       "CTR                 0.120237 -0.000854    -0.031322 -0.014530  1.000000   \n",
       "CTR Score           0.327606  0.060824    -0.021154  0.049099  0.380648   \n",
       "Weighted CTR Score  0.860636  0.677730     0.915495  0.565913 -0.011249   \n",
       "\n",
       "                    CTR Score  Weighted CTR Score  \n",
       "Clicks               0.327606            0.860636  \n",
       "Spend                0.060824            0.677730  \n",
       "Impressions         -0.021154            0.915495  \n",
       "Reach                0.049099            0.565913  \n",
       "CTR                  0.380648           -0.011249  \n",
       "CTR Score            1.000000            0.155580  \n",
       "Weighted CTR Score   0.155580            1.000000  "
      ]
     },
     "execution_count": 51,
     "metadata": {},
     "output_type": "execute_result"
    }
   ],
   "source": [
    "CD_new4.corr()"
   ]
  },
  {
   "cell_type": "markdown",
   "id": "e7bc21f0",
   "metadata": {},
   "source": [
    "#### Regression 1"
   ]
  },
  {
   "cell_type": "code",
   "execution_count": 28,
   "id": "318592b6",
   "metadata": {},
   "outputs": [],
   "source": [
    "#Define the dependent variable\n",
    "y = CD_new2['Spend'] \n",
    "\n",
    "#Define the independent variable\n",
    "X = CD_new2[['Impressions', 'Reach']] "
   ]
  },
  {
   "cell_type": "code",
   "execution_count": 29,
   "id": "4002efc8",
   "metadata": {},
   "outputs": [
    {
     "data": {
      "text/html": [
       "<style>#sk-container-id-2 {color: black;background-color: white;}#sk-container-id-2 pre{padding: 0;}#sk-container-id-2 div.sk-toggleable {background-color: white;}#sk-container-id-2 label.sk-toggleable__label {cursor: pointer;display: block;width: 100%;margin-bottom: 0;padding: 0.3em;box-sizing: border-box;text-align: center;}#sk-container-id-2 label.sk-toggleable__label-arrow:before {content: \"▸\";float: left;margin-right: 0.25em;color: #696969;}#sk-container-id-2 label.sk-toggleable__label-arrow:hover:before {color: black;}#sk-container-id-2 div.sk-estimator:hover label.sk-toggleable__label-arrow:before {color: black;}#sk-container-id-2 div.sk-toggleable__content {max-height: 0;max-width: 0;overflow: hidden;text-align: left;background-color: #f0f8ff;}#sk-container-id-2 div.sk-toggleable__content pre {margin: 0.2em;color: black;border-radius: 0.25em;background-color: #f0f8ff;}#sk-container-id-2 input.sk-toggleable__control:checked~div.sk-toggleable__content {max-height: 200px;max-width: 100%;overflow: auto;}#sk-container-id-2 input.sk-toggleable__control:checked~label.sk-toggleable__label-arrow:before {content: \"▾\";}#sk-container-id-2 div.sk-estimator input.sk-toggleable__control:checked~label.sk-toggleable__label {background-color: #d4ebff;}#sk-container-id-2 div.sk-label input.sk-toggleable__control:checked~label.sk-toggleable__label {background-color: #d4ebff;}#sk-container-id-2 input.sk-hidden--visually {border: 0;clip: rect(1px 1px 1px 1px);clip: rect(1px, 1px, 1px, 1px);height: 1px;margin: -1px;overflow: hidden;padding: 0;position: absolute;width: 1px;}#sk-container-id-2 div.sk-estimator {font-family: monospace;background-color: #f0f8ff;border: 1px dotted black;border-radius: 0.25em;box-sizing: border-box;margin-bottom: 0.5em;}#sk-container-id-2 div.sk-estimator:hover {background-color: #d4ebff;}#sk-container-id-2 div.sk-parallel-item::after {content: \"\";width: 100%;border-bottom: 1px solid gray;flex-grow: 1;}#sk-container-id-2 div.sk-label:hover label.sk-toggleable__label {background-color: #d4ebff;}#sk-container-id-2 div.sk-serial::before {content: \"\";position: absolute;border-left: 1px solid gray;box-sizing: border-box;top: 0;bottom: 0;left: 50%;z-index: 0;}#sk-container-id-2 div.sk-serial {display: flex;flex-direction: column;align-items: center;background-color: white;padding-right: 0.2em;padding-left: 0.2em;position: relative;}#sk-container-id-2 div.sk-item {position: relative;z-index: 1;}#sk-container-id-2 div.sk-parallel {display: flex;align-items: stretch;justify-content: center;background-color: white;position: relative;}#sk-container-id-2 div.sk-item::before, #sk-container-id-2 div.sk-parallel-item::before {content: \"\";position: absolute;border-left: 1px solid gray;box-sizing: border-box;top: 0;bottom: 0;left: 50%;z-index: -1;}#sk-container-id-2 div.sk-parallel-item {display: flex;flex-direction: column;z-index: 1;position: relative;background-color: white;}#sk-container-id-2 div.sk-parallel-item:first-child::after {align-self: flex-end;width: 50%;}#sk-container-id-2 div.sk-parallel-item:last-child::after {align-self: flex-start;width: 50%;}#sk-container-id-2 div.sk-parallel-item:only-child::after {width: 0;}#sk-container-id-2 div.sk-dashed-wrapped {border: 1px dashed gray;margin: 0 0.4em 0.5em 0.4em;box-sizing: border-box;padding-bottom: 0.4em;background-color: white;}#sk-container-id-2 div.sk-label label {font-family: monospace;font-weight: bold;display: inline-block;line-height: 1.2em;}#sk-container-id-2 div.sk-label-container {text-align: center;}#sk-container-id-2 div.sk-container {/* jupyter's `normalize.less` sets `[hidden] { display: none; }` but bootstrap.min.css set `[hidden] { display: none !important; }` so we also need the `!important` here to be able to override the default hidden behavior on the sphinx rendered scikit-learn.org. See: https://github.com/scikit-learn/scikit-learn/issues/21755 */display: inline-block !important;position: relative;}#sk-container-id-2 div.sk-text-repr-fallback {display: none;}</style><div id=\"sk-container-id-2\" class=\"sk-top-container\"><div class=\"sk-text-repr-fallback\"><pre>LinearRegression()</pre><b>In a Jupyter environment, please rerun this cell to show the HTML representation or trust the notebook. <br />On GitHub, the HTML representation is unable to render, please try loading this page with nbviewer.org.</b></div><div class=\"sk-container\" hidden><div class=\"sk-item\"><div class=\"sk-estimator sk-toggleable\"><input class=\"sk-toggleable__control sk-hidden--visually\" id=\"sk-estimator-id-2\" type=\"checkbox\" checked><label for=\"sk-estimator-id-2\" class=\"sk-toggleable__label sk-toggleable__label-arrow\">LinearRegression</label><div class=\"sk-toggleable__content\"><pre>LinearRegression()</pre></div></div></div></div></div>"
      ],
      "text/plain": [
       "LinearRegression()"
      ]
     },
     "execution_count": 29,
     "metadata": {},
     "output_type": "execute_result"
    }
   ],
   "source": [
    "#Specify the model\n",
    "multi = LinearRegression()  \n",
    "\n",
    "#Fit the model\n",
    "multi.fit(X, y)"
   ]
  },
  {
   "cell_type": "code",
   "execution_count": 30,
   "id": "a88f58c7",
   "metadata": {},
   "outputs": [
    {
     "data": {
      "text/plain": [
       "array([  5.27001798,   5.27001798,   2.49513261, ..., 160.3289806 ,\n",
       "       168.92116874, 167.35731536])"
      ]
     },
     "execution_count": 30,
     "metadata": {},
     "output_type": "execute_result"
    }
   ],
   "source": [
    "#Call the predictions for X (array)\n",
    "multi.predict(X)"
   ]
  },
  {
   "cell_type": "code",
   "execution_count": 31,
   "id": "ccdde38d",
   "metadata": {},
   "outputs": [
    {
     "name": "stdout",
     "output_type": "stream",
     "text": [
      "R-squared:  0.9221195496237286\n",
      "Intercept:  0.9673855237651905\n",
      "Coefficients:\n"
     ]
    },
    {
     "data": {
      "text/plain": [
       "[('Impressions', 0.013199008961375238), ('Reach', -0.016506400638537474)]"
      ]
     },
     "execution_count": 31,
     "metadata": {},
     "output_type": "execute_result"
    }
   ],
   "source": [
    "#Checking the value of R-squared, intercept and coefficients\n",
    "print(\"R-squared: \", multi.score(X, y))\n",
    "print(\"Intercept: \", multi.intercept_)\n",
    "print(\"Coefficients:\")\n",
    "\n",
    "list(zip(X, multi.coef_))"
   ]
  },
  {
   "cell_type": "markdown",
   "id": "4623b16c",
   "metadata": {},
   "source": [
    "Second data"
   ]
  },
  {
   "cell_type": "code",
   "execution_count": 59,
   "id": "8e5e34c9",
   "metadata": {},
   "outputs": [],
   "source": [
    "#Define the dependent variable\n",
    "y = CD_new4['Spend'] \n",
    "\n",
    "#Define the independent variable\n",
    "X = CD_new4[['Impressions', 'Reach']] "
   ]
  },
  {
   "cell_type": "code",
   "execution_count": 60,
   "id": "814532d4",
   "metadata": {},
   "outputs": [
    {
     "data": {
      "text/html": [
       "<style>#sk-container-id-4 {color: black;background-color: white;}#sk-container-id-4 pre{padding: 0;}#sk-container-id-4 div.sk-toggleable {background-color: white;}#sk-container-id-4 label.sk-toggleable__label {cursor: pointer;display: block;width: 100%;margin-bottom: 0;padding: 0.3em;box-sizing: border-box;text-align: center;}#sk-container-id-4 label.sk-toggleable__label-arrow:before {content: \"▸\";float: left;margin-right: 0.25em;color: #696969;}#sk-container-id-4 label.sk-toggleable__label-arrow:hover:before {color: black;}#sk-container-id-4 div.sk-estimator:hover label.sk-toggleable__label-arrow:before {color: black;}#sk-container-id-4 div.sk-toggleable__content {max-height: 0;max-width: 0;overflow: hidden;text-align: left;background-color: #f0f8ff;}#sk-container-id-4 div.sk-toggleable__content pre {margin: 0.2em;color: black;border-radius: 0.25em;background-color: #f0f8ff;}#sk-container-id-4 input.sk-toggleable__control:checked~div.sk-toggleable__content {max-height: 200px;max-width: 100%;overflow: auto;}#sk-container-id-4 input.sk-toggleable__control:checked~label.sk-toggleable__label-arrow:before {content: \"▾\";}#sk-container-id-4 div.sk-estimator input.sk-toggleable__control:checked~label.sk-toggleable__label {background-color: #d4ebff;}#sk-container-id-4 div.sk-label input.sk-toggleable__control:checked~label.sk-toggleable__label {background-color: #d4ebff;}#sk-container-id-4 input.sk-hidden--visually {border: 0;clip: rect(1px 1px 1px 1px);clip: rect(1px, 1px, 1px, 1px);height: 1px;margin: -1px;overflow: hidden;padding: 0;position: absolute;width: 1px;}#sk-container-id-4 div.sk-estimator {font-family: monospace;background-color: #f0f8ff;border: 1px dotted black;border-radius: 0.25em;box-sizing: border-box;margin-bottom: 0.5em;}#sk-container-id-4 div.sk-estimator:hover {background-color: #d4ebff;}#sk-container-id-4 div.sk-parallel-item::after {content: \"\";width: 100%;border-bottom: 1px solid gray;flex-grow: 1;}#sk-container-id-4 div.sk-label:hover label.sk-toggleable__label {background-color: #d4ebff;}#sk-container-id-4 div.sk-serial::before {content: \"\";position: absolute;border-left: 1px solid gray;box-sizing: border-box;top: 0;bottom: 0;left: 50%;z-index: 0;}#sk-container-id-4 div.sk-serial {display: flex;flex-direction: column;align-items: center;background-color: white;padding-right: 0.2em;padding-left: 0.2em;position: relative;}#sk-container-id-4 div.sk-item {position: relative;z-index: 1;}#sk-container-id-4 div.sk-parallel {display: flex;align-items: stretch;justify-content: center;background-color: white;position: relative;}#sk-container-id-4 div.sk-item::before, #sk-container-id-4 div.sk-parallel-item::before {content: \"\";position: absolute;border-left: 1px solid gray;box-sizing: border-box;top: 0;bottom: 0;left: 50%;z-index: -1;}#sk-container-id-4 div.sk-parallel-item {display: flex;flex-direction: column;z-index: 1;position: relative;background-color: white;}#sk-container-id-4 div.sk-parallel-item:first-child::after {align-self: flex-end;width: 50%;}#sk-container-id-4 div.sk-parallel-item:last-child::after {align-self: flex-start;width: 50%;}#sk-container-id-4 div.sk-parallel-item:only-child::after {width: 0;}#sk-container-id-4 div.sk-dashed-wrapped {border: 1px dashed gray;margin: 0 0.4em 0.5em 0.4em;box-sizing: border-box;padding-bottom: 0.4em;background-color: white;}#sk-container-id-4 div.sk-label label {font-family: monospace;font-weight: bold;display: inline-block;line-height: 1.2em;}#sk-container-id-4 div.sk-label-container {text-align: center;}#sk-container-id-4 div.sk-container {/* jupyter's `normalize.less` sets `[hidden] { display: none; }` but bootstrap.min.css set `[hidden] { display: none !important; }` so we also need the `!important` here to be able to override the default hidden behavior on the sphinx rendered scikit-learn.org. See: https://github.com/scikit-learn/scikit-learn/issues/21755 */display: inline-block !important;position: relative;}#sk-container-id-4 div.sk-text-repr-fallback {display: none;}</style><div id=\"sk-container-id-4\" class=\"sk-top-container\"><div class=\"sk-text-repr-fallback\"><pre>LinearRegression()</pre><b>In a Jupyter environment, please rerun this cell to show the HTML representation or trust the notebook. <br />On GitHub, the HTML representation is unable to render, please try loading this page with nbviewer.org.</b></div><div class=\"sk-container\" hidden><div class=\"sk-item\"><div class=\"sk-estimator sk-toggleable\"><input class=\"sk-toggleable__control sk-hidden--visually\" id=\"sk-estimator-id-4\" type=\"checkbox\" checked><label for=\"sk-estimator-id-4\" class=\"sk-toggleable__label sk-toggleable__label-arrow\">LinearRegression</label><div class=\"sk-toggleable__content\"><pre>LinearRegression()</pre></div></div></div></div></div>"
      ],
      "text/plain": [
       "LinearRegression()"
      ]
     },
     "execution_count": 60,
     "metadata": {},
     "output_type": "execute_result"
    }
   ],
   "source": [
    "#Specify the model\n",
    "multi = LinearRegression()  \n",
    "\n",
    "#Fit the model\n",
    "multi.fit(X, y)"
   ]
  },
  {
   "cell_type": "code",
   "execution_count": 61,
   "id": "bc51f3ea",
   "metadata": {},
   "outputs": [
    {
     "data": {
      "text/plain": [
       "array([ 2.17078511,  1.42441465,  1.54071965, ..., 75.62844646,\n",
       "       79.86425308, 78.89762133])"
      ]
     },
     "execution_count": 61,
     "metadata": {},
     "output_type": "execute_result"
    }
   ],
   "source": [
    "#Call the predictions for X (array)\n",
    "multi.predict(X)"
   ]
  },
  {
   "cell_type": "code",
   "execution_count": 62,
   "id": "2466183c",
   "metadata": {},
   "outputs": [
    {
     "name": "stdout",
     "output_type": "stream",
     "text": [
      "R-squared:  0.527398699908566\n",
      "Intercept:  1.356650044731055\n",
      "Coefficients:\n"
     ]
    },
    {
     "data": {
      "text/plain": [
       "[('Impressions', 0.005828339456116696), ('Reach', 0.0019136931746335168)]"
      ]
     },
     "execution_count": 62,
     "metadata": {},
     "output_type": "execute_result"
    }
   ],
   "source": [
    "#Checking the value of R-squared, intercept and coefficients\n",
    "print(\"R-squared: \", multi.score(X, y))\n",
    "print(\"Intercept: \", multi.intercept_)\n",
    "print(\"Coefficients:\")\n",
    "\n",
    "list(zip(X, multi.coef_))"
   ]
  },
  {
   "cell_type": "markdown",
   "id": "bd162b4c",
   "metadata": {},
   "source": [
    "#### Regression 2"
   ]
  },
  {
   "cell_type": "code",
   "execution_count": 32,
   "id": "20dfe7cf",
   "metadata": {},
   "outputs": [],
   "source": [
    "# Define the dependent variable.\n",
    "y = CD_new2['Spend'] \n",
    "\n",
    "# Define the independent variable.\n",
    "X = CD_new2[['Impressions', 'Reach','Clicks']] "
   ]
  },
  {
   "cell_type": "code",
   "execution_count": 33,
   "id": "9ce07a70",
   "metadata": {},
   "outputs": [
    {
     "data": {
      "text/html": [
       "<style>#sk-container-id-3 {color: black;background-color: white;}#sk-container-id-3 pre{padding: 0;}#sk-container-id-3 div.sk-toggleable {background-color: white;}#sk-container-id-3 label.sk-toggleable__label {cursor: pointer;display: block;width: 100%;margin-bottom: 0;padding: 0.3em;box-sizing: border-box;text-align: center;}#sk-container-id-3 label.sk-toggleable__label-arrow:before {content: \"▸\";float: left;margin-right: 0.25em;color: #696969;}#sk-container-id-3 label.sk-toggleable__label-arrow:hover:before {color: black;}#sk-container-id-3 div.sk-estimator:hover label.sk-toggleable__label-arrow:before {color: black;}#sk-container-id-3 div.sk-toggleable__content {max-height: 0;max-width: 0;overflow: hidden;text-align: left;background-color: #f0f8ff;}#sk-container-id-3 div.sk-toggleable__content pre {margin: 0.2em;color: black;border-radius: 0.25em;background-color: #f0f8ff;}#sk-container-id-3 input.sk-toggleable__control:checked~div.sk-toggleable__content {max-height: 200px;max-width: 100%;overflow: auto;}#sk-container-id-3 input.sk-toggleable__control:checked~label.sk-toggleable__label-arrow:before {content: \"▾\";}#sk-container-id-3 div.sk-estimator input.sk-toggleable__control:checked~label.sk-toggleable__label {background-color: #d4ebff;}#sk-container-id-3 div.sk-label input.sk-toggleable__control:checked~label.sk-toggleable__label {background-color: #d4ebff;}#sk-container-id-3 input.sk-hidden--visually {border: 0;clip: rect(1px 1px 1px 1px);clip: rect(1px, 1px, 1px, 1px);height: 1px;margin: -1px;overflow: hidden;padding: 0;position: absolute;width: 1px;}#sk-container-id-3 div.sk-estimator {font-family: monospace;background-color: #f0f8ff;border: 1px dotted black;border-radius: 0.25em;box-sizing: border-box;margin-bottom: 0.5em;}#sk-container-id-3 div.sk-estimator:hover {background-color: #d4ebff;}#sk-container-id-3 div.sk-parallel-item::after {content: \"\";width: 100%;border-bottom: 1px solid gray;flex-grow: 1;}#sk-container-id-3 div.sk-label:hover label.sk-toggleable__label {background-color: #d4ebff;}#sk-container-id-3 div.sk-serial::before {content: \"\";position: absolute;border-left: 1px solid gray;box-sizing: border-box;top: 0;bottom: 0;left: 50%;z-index: 0;}#sk-container-id-3 div.sk-serial {display: flex;flex-direction: column;align-items: center;background-color: white;padding-right: 0.2em;padding-left: 0.2em;position: relative;}#sk-container-id-3 div.sk-item {position: relative;z-index: 1;}#sk-container-id-3 div.sk-parallel {display: flex;align-items: stretch;justify-content: center;background-color: white;position: relative;}#sk-container-id-3 div.sk-item::before, #sk-container-id-3 div.sk-parallel-item::before {content: \"\";position: absolute;border-left: 1px solid gray;box-sizing: border-box;top: 0;bottom: 0;left: 50%;z-index: -1;}#sk-container-id-3 div.sk-parallel-item {display: flex;flex-direction: column;z-index: 1;position: relative;background-color: white;}#sk-container-id-3 div.sk-parallel-item:first-child::after {align-self: flex-end;width: 50%;}#sk-container-id-3 div.sk-parallel-item:last-child::after {align-self: flex-start;width: 50%;}#sk-container-id-3 div.sk-parallel-item:only-child::after {width: 0;}#sk-container-id-3 div.sk-dashed-wrapped {border: 1px dashed gray;margin: 0 0.4em 0.5em 0.4em;box-sizing: border-box;padding-bottom: 0.4em;background-color: white;}#sk-container-id-3 div.sk-label label {font-family: monospace;font-weight: bold;display: inline-block;line-height: 1.2em;}#sk-container-id-3 div.sk-label-container {text-align: center;}#sk-container-id-3 div.sk-container {/* jupyter's `normalize.less` sets `[hidden] { display: none; }` but bootstrap.min.css set `[hidden] { display: none !important; }` so we also need the `!important` here to be able to override the default hidden behavior on the sphinx rendered scikit-learn.org. See: https://github.com/scikit-learn/scikit-learn/issues/21755 */display: inline-block !important;position: relative;}#sk-container-id-3 div.sk-text-repr-fallback {display: none;}</style><div id=\"sk-container-id-3\" class=\"sk-top-container\"><div class=\"sk-text-repr-fallback\"><pre>LinearRegression()</pre><b>In a Jupyter environment, please rerun this cell to show the HTML representation or trust the notebook. <br />On GitHub, the HTML representation is unable to render, please try loading this page with nbviewer.org.</b></div><div class=\"sk-container\" hidden><div class=\"sk-item\"><div class=\"sk-estimator sk-toggleable\"><input class=\"sk-toggleable__control sk-hidden--visually\" id=\"sk-estimator-id-3\" type=\"checkbox\" checked><label for=\"sk-estimator-id-3\" class=\"sk-toggleable__label sk-toggleable__label-arrow\">LinearRegression</label><div class=\"sk-toggleable__content\"><pre>LinearRegression()</pre></div></div></div></div></div>"
      ],
      "text/plain": [
       "LinearRegression()"
      ]
     },
     "execution_count": 33,
     "metadata": {},
     "output_type": "execute_result"
    }
   ],
   "source": [
    "#Specify the model\n",
    "multi = LinearRegression()  \n",
    "\n",
    "#Fit the model\n",
    "multi.fit(X, y)"
   ]
  },
  {
   "cell_type": "code",
   "execution_count": 34,
   "id": "9efbcfc3",
   "metadata": {},
   "outputs": [
    {
     "data": {
      "text/plain": [
       "array([  5.80986421,   5.80986421,   2.85572325, ..., 165.42494763,\n",
       "       177.22572749, 172.82410209])"
      ]
     },
     "execution_count": 34,
     "metadata": {},
     "output_type": "execute_result"
    }
   ],
   "source": [
    "#Call the predictions for X (array)\n",
    "multi.predict(X)"
   ]
  },
  {
   "cell_type": "code",
   "execution_count": 35,
   "id": "e1840aa0",
   "metadata": {},
   "outputs": [
    {
     "name": "stdout",
     "output_type": "stream",
     "text": [
      "R-squared:  0.9301242858122746\n",
      "Intercept:  1.2455756128868005\n",
      "Coefficients:\n"
     ]
    },
    {
     "data": {
      "text/plain": [
       "[('Impressions', 0.013839576437943138),\n",
       " ('Reach', -0.015656136737518853),\n",
       " ('Clicks', -0.9041118584264051)]"
      ]
     },
     "execution_count": 35,
     "metadata": {},
     "output_type": "execute_result"
    }
   ],
   "source": [
    "#Checking the value of R-squared, intercept and coefficients\n",
    "print(\"R-squared: \", multi.score(X, y))\n",
    "print(\"Intercept: \", multi.intercept_)\n",
    "print(\"Coefficients:\")\n",
    "\n",
    "list(zip(X, multi.coef_))"
   ]
  },
  {
   "cell_type": "markdown",
   "id": "24f802ff",
   "metadata": {},
   "source": [
    "Second data"
   ]
  },
  {
   "cell_type": "code",
   "execution_count": 64,
   "id": "ba1411d6",
   "metadata": {},
   "outputs": [],
   "source": [
    "# Define the dependent variable.\n",
    "y = CD_new4['Spend'] \n",
    "\n",
    "# Define the independent variable.\n",
    "X = CD_new4[['Impressions', 'Reach','Clicks']]"
   ]
  },
  {
   "cell_type": "code",
   "execution_count": 65,
   "id": "b63df21b",
   "metadata": {},
   "outputs": [
    {
     "data": {
      "text/html": [
       "<style>#sk-container-id-5 {color: black;background-color: white;}#sk-container-id-5 pre{padding: 0;}#sk-container-id-5 div.sk-toggleable {background-color: white;}#sk-container-id-5 label.sk-toggleable__label {cursor: pointer;display: block;width: 100%;margin-bottom: 0;padding: 0.3em;box-sizing: border-box;text-align: center;}#sk-container-id-5 label.sk-toggleable__label-arrow:before {content: \"▸\";float: left;margin-right: 0.25em;color: #696969;}#sk-container-id-5 label.sk-toggleable__label-arrow:hover:before {color: black;}#sk-container-id-5 div.sk-estimator:hover label.sk-toggleable__label-arrow:before {color: black;}#sk-container-id-5 div.sk-toggleable__content {max-height: 0;max-width: 0;overflow: hidden;text-align: left;background-color: #f0f8ff;}#sk-container-id-5 div.sk-toggleable__content pre {margin: 0.2em;color: black;border-radius: 0.25em;background-color: #f0f8ff;}#sk-container-id-5 input.sk-toggleable__control:checked~div.sk-toggleable__content {max-height: 200px;max-width: 100%;overflow: auto;}#sk-container-id-5 input.sk-toggleable__control:checked~label.sk-toggleable__label-arrow:before {content: \"▾\";}#sk-container-id-5 div.sk-estimator input.sk-toggleable__control:checked~label.sk-toggleable__label {background-color: #d4ebff;}#sk-container-id-5 div.sk-label input.sk-toggleable__control:checked~label.sk-toggleable__label {background-color: #d4ebff;}#sk-container-id-5 input.sk-hidden--visually {border: 0;clip: rect(1px 1px 1px 1px);clip: rect(1px, 1px, 1px, 1px);height: 1px;margin: -1px;overflow: hidden;padding: 0;position: absolute;width: 1px;}#sk-container-id-5 div.sk-estimator {font-family: monospace;background-color: #f0f8ff;border: 1px dotted black;border-radius: 0.25em;box-sizing: border-box;margin-bottom: 0.5em;}#sk-container-id-5 div.sk-estimator:hover {background-color: #d4ebff;}#sk-container-id-5 div.sk-parallel-item::after {content: \"\";width: 100%;border-bottom: 1px solid gray;flex-grow: 1;}#sk-container-id-5 div.sk-label:hover label.sk-toggleable__label {background-color: #d4ebff;}#sk-container-id-5 div.sk-serial::before {content: \"\";position: absolute;border-left: 1px solid gray;box-sizing: border-box;top: 0;bottom: 0;left: 50%;z-index: 0;}#sk-container-id-5 div.sk-serial {display: flex;flex-direction: column;align-items: center;background-color: white;padding-right: 0.2em;padding-left: 0.2em;position: relative;}#sk-container-id-5 div.sk-item {position: relative;z-index: 1;}#sk-container-id-5 div.sk-parallel {display: flex;align-items: stretch;justify-content: center;background-color: white;position: relative;}#sk-container-id-5 div.sk-item::before, #sk-container-id-5 div.sk-parallel-item::before {content: \"\";position: absolute;border-left: 1px solid gray;box-sizing: border-box;top: 0;bottom: 0;left: 50%;z-index: -1;}#sk-container-id-5 div.sk-parallel-item {display: flex;flex-direction: column;z-index: 1;position: relative;background-color: white;}#sk-container-id-5 div.sk-parallel-item:first-child::after {align-self: flex-end;width: 50%;}#sk-container-id-5 div.sk-parallel-item:last-child::after {align-self: flex-start;width: 50%;}#sk-container-id-5 div.sk-parallel-item:only-child::after {width: 0;}#sk-container-id-5 div.sk-dashed-wrapped {border: 1px dashed gray;margin: 0 0.4em 0.5em 0.4em;box-sizing: border-box;padding-bottom: 0.4em;background-color: white;}#sk-container-id-5 div.sk-label label {font-family: monospace;font-weight: bold;display: inline-block;line-height: 1.2em;}#sk-container-id-5 div.sk-label-container {text-align: center;}#sk-container-id-5 div.sk-container {/* jupyter's `normalize.less` sets `[hidden] { display: none; }` but bootstrap.min.css set `[hidden] { display: none !important; }` so we also need the `!important` here to be able to override the default hidden behavior on the sphinx rendered scikit-learn.org. See: https://github.com/scikit-learn/scikit-learn/issues/21755 */display: inline-block !important;position: relative;}#sk-container-id-5 div.sk-text-repr-fallback {display: none;}</style><div id=\"sk-container-id-5\" class=\"sk-top-container\"><div class=\"sk-text-repr-fallback\"><pre>LinearRegression()</pre><b>In a Jupyter environment, please rerun this cell to show the HTML representation or trust the notebook. <br />On GitHub, the HTML representation is unable to render, please try loading this page with nbviewer.org.</b></div><div class=\"sk-container\" hidden><div class=\"sk-item\"><div class=\"sk-estimator sk-toggleable\"><input class=\"sk-toggleable__control sk-hidden--visually\" id=\"sk-estimator-id-5\" type=\"checkbox\" checked><label for=\"sk-estimator-id-5\" class=\"sk-toggleable__label sk-toggleable__label-arrow\">LinearRegression</label><div class=\"sk-toggleable__content\"><pre>LinearRegression()</pre></div></div></div></div></div>"
      ],
      "text/plain": [
       "LinearRegression()"
      ]
     },
     "execution_count": 65,
     "metadata": {},
     "output_type": "execute_result"
    }
   ],
   "source": [
    "#Specify the model\n",
    "multi = LinearRegression()  \n",
    "\n",
    "#Fit the model\n",
    "multi.fit(X, y)"
   ]
  },
  {
   "cell_type": "code",
   "execution_count": 66,
   "id": "b7cfcc38",
   "metadata": {},
   "outputs": [
    {
     "data": {
      "text/plain": [
       "array([ 1.79610541,  1.24199707,  1.3280163 , ..., 65.69952983,\n",
       "       64.89516664, 68.29580179])"
      ]
     },
     "execution_count": 66,
     "metadata": {},
     "output_type": "execute_result"
    }
   ],
   "source": [
    "#Call the predictions for X (array)\n",
    "multi.predict(X)"
   ]
  },
  {
   "cell_type": "code",
   "execution_count": 67,
   "id": "b6b5c47e",
   "metadata": {},
   "outputs": [
    {
     "name": "stdout",
     "output_type": "stream",
     "text": [
      "R-squared:  0.5460074212170412\n",
      "Intercept:  1.1939707698121365\n",
      "Coefficients:\n"
     ]
    },
    {
     "data": {
      "text/plain": [
       "[('Impressions', 0.004653039333836568),\n",
       " ('Reach', 0.0007686183416682514),\n",
       " ('Clicks', 1.3831892801304617)]"
      ]
     },
     "execution_count": 67,
     "metadata": {},
     "output_type": "execute_result"
    }
   ],
   "source": [
    "#Checking the value of R-squared, intercept and coefficients\n",
    "print(\"R-squared: \", multi.score(X, y))\n",
    "print(\"Intercept: \", multi.intercept_)\n",
    "print(\"Coefficients:\")\n",
    "\n",
    "list(zip(X, multi.coef_))"
   ]
  },
  {
   "cell_type": "markdown",
   "id": "8e9d78b3",
   "metadata": {},
   "source": [
    "#### Regression 3"
   ]
  },
  {
   "cell_type": "code",
   "execution_count": 68,
   "id": "ecbd0a23",
   "metadata": {},
   "outputs": [],
   "source": [
    "# Define the dependent variable.\n",
    "y = CD_new2['Spend'] \n",
    "\n",
    "# Define the independent variable.\n",
    "X = CD_new2[['Impressions', 'Clicks']] "
   ]
  },
  {
   "cell_type": "code",
   "execution_count": 69,
   "id": "107f70c2",
   "metadata": {},
   "outputs": [
    {
     "data": {
      "text/html": [
       "<style>#sk-container-id-6 {color: black;background-color: white;}#sk-container-id-6 pre{padding: 0;}#sk-container-id-6 div.sk-toggleable {background-color: white;}#sk-container-id-6 label.sk-toggleable__label {cursor: pointer;display: block;width: 100%;margin-bottom: 0;padding: 0.3em;box-sizing: border-box;text-align: center;}#sk-container-id-6 label.sk-toggleable__label-arrow:before {content: \"▸\";float: left;margin-right: 0.25em;color: #696969;}#sk-container-id-6 label.sk-toggleable__label-arrow:hover:before {color: black;}#sk-container-id-6 div.sk-estimator:hover label.sk-toggleable__label-arrow:before {color: black;}#sk-container-id-6 div.sk-toggleable__content {max-height: 0;max-width: 0;overflow: hidden;text-align: left;background-color: #f0f8ff;}#sk-container-id-6 div.sk-toggleable__content pre {margin: 0.2em;color: black;border-radius: 0.25em;background-color: #f0f8ff;}#sk-container-id-6 input.sk-toggleable__control:checked~div.sk-toggleable__content {max-height: 200px;max-width: 100%;overflow: auto;}#sk-container-id-6 input.sk-toggleable__control:checked~label.sk-toggleable__label-arrow:before {content: \"▾\";}#sk-container-id-6 div.sk-estimator input.sk-toggleable__control:checked~label.sk-toggleable__label {background-color: #d4ebff;}#sk-container-id-6 div.sk-label input.sk-toggleable__control:checked~label.sk-toggleable__label {background-color: #d4ebff;}#sk-container-id-6 input.sk-hidden--visually {border: 0;clip: rect(1px 1px 1px 1px);clip: rect(1px, 1px, 1px, 1px);height: 1px;margin: -1px;overflow: hidden;padding: 0;position: absolute;width: 1px;}#sk-container-id-6 div.sk-estimator {font-family: monospace;background-color: #f0f8ff;border: 1px dotted black;border-radius: 0.25em;box-sizing: border-box;margin-bottom: 0.5em;}#sk-container-id-6 div.sk-estimator:hover {background-color: #d4ebff;}#sk-container-id-6 div.sk-parallel-item::after {content: \"\";width: 100%;border-bottom: 1px solid gray;flex-grow: 1;}#sk-container-id-6 div.sk-label:hover label.sk-toggleable__label {background-color: #d4ebff;}#sk-container-id-6 div.sk-serial::before {content: \"\";position: absolute;border-left: 1px solid gray;box-sizing: border-box;top: 0;bottom: 0;left: 50%;z-index: 0;}#sk-container-id-6 div.sk-serial {display: flex;flex-direction: column;align-items: center;background-color: white;padding-right: 0.2em;padding-left: 0.2em;position: relative;}#sk-container-id-6 div.sk-item {position: relative;z-index: 1;}#sk-container-id-6 div.sk-parallel {display: flex;align-items: stretch;justify-content: center;background-color: white;position: relative;}#sk-container-id-6 div.sk-item::before, #sk-container-id-6 div.sk-parallel-item::before {content: \"\";position: absolute;border-left: 1px solid gray;box-sizing: border-box;top: 0;bottom: 0;left: 50%;z-index: -1;}#sk-container-id-6 div.sk-parallel-item {display: flex;flex-direction: column;z-index: 1;position: relative;background-color: white;}#sk-container-id-6 div.sk-parallel-item:first-child::after {align-self: flex-end;width: 50%;}#sk-container-id-6 div.sk-parallel-item:last-child::after {align-self: flex-start;width: 50%;}#sk-container-id-6 div.sk-parallel-item:only-child::after {width: 0;}#sk-container-id-6 div.sk-dashed-wrapped {border: 1px dashed gray;margin: 0 0.4em 0.5em 0.4em;box-sizing: border-box;padding-bottom: 0.4em;background-color: white;}#sk-container-id-6 div.sk-label label {font-family: monospace;font-weight: bold;display: inline-block;line-height: 1.2em;}#sk-container-id-6 div.sk-label-container {text-align: center;}#sk-container-id-6 div.sk-container {/* jupyter's `normalize.less` sets `[hidden] { display: none; }` but bootstrap.min.css set `[hidden] { display: none !important; }` so we also need the `!important` here to be able to override the default hidden behavior on the sphinx rendered scikit-learn.org. See: https://github.com/scikit-learn/scikit-learn/issues/21755 */display: inline-block !important;position: relative;}#sk-container-id-6 div.sk-text-repr-fallback {display: none;}</style><div id=\"sk-container-id-6\" class=\"sk-top-container\"><div class=\"sk-text-repr-fallback\"><pre>LinearRegression()</pre><b>In a Jupyter environment, please rerun this cell to show the HTML representation or trust the notebook. <br />On GitHub, the HTML representation is unable to render, please try loading this page with nbviewer.org.</b></div><div class=\"sk-container\" hidden><div class=\"sk-item\"><div class=\"sk-estimator sk-toggleable\"><input class=\"sk-toggleable__control sk-hidden--visually\" id=\"sk-estimator-id-6\" type=\"checkbox\" checked><label for=\"sk-estimator-id-6\" class=\"sk-toggleable__label sk-toggleable__label-arrow\">LinearRegression</label><div class=\"sk-toggleable__content\"><pre>LinearRegression()</pre></div></div></div></div></div>"
      ],
      "text/plain": [
       "LinearRegression()"
      ]
     },
     "execution_count": 69,
     "metadata": {},
     "output_type": "execute_result"
    }
   ],
   "source": [
    "#Specify the model\n",
    "multi = LinearRegression()  \n",
    "\n",
    "#Fit the model\n",
    "multi.fit(X, y)"
   ]
  },
  {
   "cell_type": "code",
   "execution_count": 70,
   "id": "7777023e",
   "metadata": {},
   "outputs": [
    {
     "data": {
      "text/plain": [
       "array([  3.83432963,   3.83432963,   1.58873591, ..., 108.67817678,\n",
       "       121.06086134, 113.78598216])"
      ]
     },
     "execution_count": 70,
     "metadata": {},
     "output_type": "execute_result"
    }
   ],
   "source": [
    "#Call the predictions for X (array)\n",
    "multi.predict(X)"
   ]
  },
  {
   "cell_type": "code",
   "execution_count": 71,
   "id": "e63f249a",
   "metadata": {},
   "outputs": [
    {
     "name": "stdout",
     "output_type": "stream",
     "text": [
      "R-squared:  0.76020620602338\n",
      "Intercept:  0.46593905205571406\n",
      "Coefficients:\n"
     ]
    },
    {
     "data": {
      "text/plain": [
       "[('Impressions', 0.009203252937511772), ('Clicks', -1.9463905734227769)]"
      ]
     },
     "execution_count": 71,
     "metadata": {},
     "output_type": "execute_result"
    }
   ],
   "source": [
    "#Checking the value of R-squared, intercept and coefficients\n",
    "print(\"R-squared: \", multi.score(X, y))\n",
    "print(\"Intercept: \", multi.intercept_)\n",
    "print(\"Coefficients:\")\n",
    "\n",
    "list(zip(X, multi.coef_))"
   ]
  },
  {
   "cell_type": "markdown",
   "id": "e61cf887",
   "metadata": {},
   "source": [
    "Second data"
   ]
  },
  {
   "cell_type": "code",
   "execution_count": 72,
   "id": "e75a24fb",
   "metadata": {},
   "outputs": [],
   "source": [
    "# Define the dependent variable.\n",
    "y = CD_new4['Spend'] \n",
    "\n",
    "# Define the independent variable.\n",
    "X = CD_new4[['Impressions', 'Clicks']]"
   ]
  },
  {
   "cell_type": "code",
   "execution_count": 73,
   "id": "09125806",
   "metadata": {},
   "outputs": [
    {
     "data": {
      "text/html": [
       "<style>#sk-container-id-7 {color: black;background-color: white;}#sk-container-id-7 pre{padding: 0;}#sk-container-id-7 div.sk-toggleable {background-color: white;}#sk-container-id-7 label.sk-toggleable__label {cursor: pointer;display: block;width: 100%;margin-bottom: 0;padding: 0.3em;box-sizing: border-box;text-align: center;}#sk-container-id-7 label.sk-toggleable__label-arrow:before {content: \"▸\";float: left;margin-right: 0.25em;color: #696969;}#sk-container-id-7 label.sk-toggleable__label-arrow:hover:before {color: black;}#sk-container-id-7 div.sk-estimator:hover label.sk-toggleable__label-arrow:before {color: black;}#sk-container-id-7 div.sk-toggleable__content {max-height: 0;max-width: 0;overflow: hidden;text-align: left;background-color: #f0f8ff;}#sk-container-id-7 div.sk-toggleable__content pre {margin: 0.2em;color: black;border-radius: 0.25em;background-color: #f0f8ff;}#sk-container-id-7 input.sk-toggleable__control:checked~div.sk-toggleable__content {max-height: 200px;max-width: 100%;overflow: auto;}#sk-container-id-7 input.sk-toggleable__control:checked~label.sk-toggleable__label-arrow:before {content: \"▾\";}#sk-container-id-7 div.sk-estimator input.sk-toggleable__control:checked~label.sk-toggleable__label {background-color: #d4ebff;}#sk-container-id-7 div.sk-label input.sk-toggleable__control:checked~label.sk-toggleable__label {background-color: #d4ebff;}#sk-container-id-7 input.sk-hidden--visually {border: 0;clip: rect(1px 1px 1px 1px);clip: rect(1px, 1px, 1px, 1px);height: 1px;margin: -1px;overflow: hidden;padding: 0;position: absolute;width: 1px;}#sk-container-id-7 div.sk-estimator {font-family: monospace;background-color: #f0f8ff;border: 1px dotted black;border-radius: 0.25em;box-sizing: border-box;margin-bottom: 0.5em;}#sk-container-id-7 div.sk-estimator:hover {background-color: #d4ebff;}#sk-container-id-7 div.sk-parallel-item::after {content: \"\";width: 100%;border-bottom: 1px solid gray;flex-grow: 1;}#sk-container-id-7 div.sk-label:hover label.sk-toggleable__label {background-color: #d4ebff;}#sk-container-id-7 div.sk-serial::before {content: \"\";position: absolute;border-left: 1px solid gray;box-sizing: border-box;top: 0;bottom: 0;left: 50%;z-index: 0;}#sk-container-id-7 div.sk-serial {display: flex;flex-direction: column;align-items: center;background-color: white;padding-right: 0.2em;padding-left: 0.2em;position: relative;}#sk-container-id-7 div.sk-item {position: relative;z-index: 1;}#sk-container-id-7 div.sk-parallel {display: flex;align-items: stretch;justify-content: center;background-color: white;position: relative;}#sk-container-id-7 div.sk-item::before, #sk-container-id-7 div.sk-parallel-item::before {content: \"\";position: absolute;border-left: 1px solid gray;box-sizing: border-box;top: 0;bottom: 0;left: 50%;z-index: -1;}#sk-container-id-7 div.sk-parallel-item {display: flex;flex-direction: column;z-index: 1;position: relative;background-color: white;}#sk-container-id-7 div.sk-parallel-item:first-child::after {align-self: flex-end;width: 50%;}#sk-container-id-7 div.sk-parallel-item:last-child::after {align-self: flex-start;width: 50%;}#sk-container-id-7 div.sk-parallel-item:only-child::after {width: 0;}#sk-container-id-7 div.sk-dashed-wrapped {border: 1px dashed gray;margin: 0 0.4em 0.5em 0.4em;box-sizing: border-box;padding-bottom: 0.4em;background-color: white;}#sk-container-id-7 div.sk-label label {font-family: monospace;font-weight: bold;display: inline-block;line-height: 1.2em;}#sk-container-id-7 div.sk-label-container {text-align: center;}#sk-container-id-7 div.sk-container {/* jupyter's `normalize.less` sets `[hidden] { display: none; }` but bootstrap.min.css set `[hidden] { display: none !important; }` so we also need the `!important` here to be able to override the default hidden behavior on the sphinx rendered scikit-learn.org. See: https://github.com/scikit-learn/scikit-learn/issues/21755 */display: inline-block !important;position: relative;}#sk-container-id-7 div.sk-text-repr-fallback {display: none;}</style><div id=\"sk-container-id-7\" class=\"sk-top-container\"><div class=\"sk-text-repr-fallback\"><pre>LinearRegression()</pre><b>In a Jupyter environment, please rerun this cell to show the HTML representation or trust the notebook. <br />On GitHub, the HTML representation is unable to render, please try loading this page with nbviewer.org.</b></div><div class=\"sk-container\" hidden><div class=\"sk-item\"><div class=\"sk-estimator sk-toggleable\"><input class=\"sk-toggleable__control sk-hidden--visually\" id=\"sk-estimator-id-7\" type=\"checkbox\" checked><label for=\"sk-estimator-id-7\" class=\"sk-toggleable__label sk-toggleable__label-arrow\">LinearRegression</label><div class=\"sk-toggleable__content\"><pre>LinearRegression()</pre></div></div></div></div></div>"
      ],
      "text/plain": [
       "LinearRegression()"
      ]
     },
     "execution_count": 73,
     "metadata": {},
     "output_type": "execute_result"
    }
   ],
   "source": [
    "#Specify the model\n",
    "multi = LinearRegression()  \n",
    "\n",
    "#Fit the model\n",
    "multi.fit(X, y)"
   ]
  },
  {
   "cell_type": "code",
   "execution_count": 74,
   "id": "4548b84c",
   "metadata": {},
   "outputs": [
    {
     "data": {
      "text/plain": [
       "array([ 1.79193326,  1.27058727,  1.35115892, ..., 66.66163084,\n",
       "       65.75872573, 69.29205833])"
      ]
     },
     "execution_count": 74,
     "metadata": {},
     "output_type": "execute_result"
    }
   ],
   "source": [
    "#Call the predictions for X (array)\n",
    "multi.predict(X)"
   ]
  },
  {
   "cell_type": "code",
   "execution_count": 75,
   "id": "f08e289f",
   "metadata": {},
   "outputs": [
    {
     "name": "stdout",
     "output_type": "stream",
     "text": [
      "R-squared:  0.545636784945398\n",
      "Intercept:  1.227931690994521\n",
      "Coefficients:\n"
     ]
    },
    {
     "data": {
      "text/plain": [
       "[('Impressions', 0.0047395089777925795), ('Clicks', 1.424231999385458)]"
      ]
     },
     "execution_count": 75,
     "metadata": {},
     "output_type": "execute_result"
    }
   ],
   "source": [
    "#Checking the value of R-squared, intercept and coefficients\n",
    "print(\"R-squared: \", multi.score(X, y))\n",
    "print(\"Intercept: \", multi.intercept_)\n",
    "print(\"Coefficients:\")\n",
    "\n",
    "list(zip(X, multi.coef_))"
   ]
  },
  {
   "cell_type": "markdown",
   "id": "6a3cc9f9",
   "metadata": {},
   "source": [
    "## Clustering"
   ]
  },
  {
   "cell_type": "code",
   "execution_count": 36,
   "id": "bfc8a644",
   "metadata": {},
   "outputs": [
    {
     "data": {
      "text/plain": [
       "<AxesSubplot:xlabel='Impressions', ylabel='Spend'>"
      ]
     },
     "execution_count": 36,
     "metadata": {},
     "output_type": "execute_result"
    },
    {
     "data": {
      "image/png": "[encoded data removed]",
      "text/plain": [
       "<Figure size 432x288 with 1 Axes>"
      ]
     },
     "metadata": {},
     "output_type": "display_data"
    }
   ],
   "source": [
    "#Create a scatterplot with Seaborn\n",
    "sns.scatterplot(x='Impressions',\n",
    "                y='Spend',\n",
    "                data=CD_new2)"
   ]
  },
  {
   "cell_type": "code",
   "execution_count": 37,
   "id": "a4d59ddc",
   "metadata": {},
   "outputs": [
    {
     "data": {
      "text/plain": [
       "<seaborn.axisgrid.PairGrid at 0x7fa7e073af40>"
      ]
     },
     "execution_count": 37,
     "metadata": {},
     "output_type": "execute_result"
    },
    {
     "data": {
      "image/png": "[encoded data removed]",
      "text/plain": [
       "<Figure size 360x360 with 6 Axes>"
      ]
     },
     "metadata": {},
     "output_type": "display_data"
    }
   ],
   "source": [
    "#Create a pairplot with Seaborn\n",
    "x = CD_new2[['Impressions', 'Spend']]\n",
    "\n",
    "sns.pairplot(CD_new2,\n",
    "             vars=x,\n",
    "             diag_kind= 'kde')"
   ]
  },
  {
   "cell_type": "markdown",
   "id": "9203b697",
   "metadata": {},
   "source": [
    "### Elbow method"
   ]
  },
  {
   "cell_type": "code",
   "execution_count": 38,
   "id": "01fb3e5d",
   "metadata": {},
   "outputs": [
    {
     "data": {
      "image/png": "[encoded data removed]",
      "text/plain": [
       "<Figure size 432x288 with 1 Axes>"
      ]
     },
     "metadata": {},
     "output_type": "display_data"
    }
   ],
   "source": [
    "#Import the KMeans class\n",
    "from sklearn.cluster import KMeans \n",
    "\n",
    "# Elbow chart for us to decide on the number of optimal clusters.\n",
    "ss = []\n",
    "for i in range(1, 11):\n",
    "    kmeans = KMeans(n_clusters = i,\n",
    "                    init = 'k-means++', \n",
    "                    max_iter = 500,\n",
    "                    n_init = 10,\n",
    "                    random_state = 42)\n",
    "    kmeans.fit(x)\n",
    "    ss.append(kmeans.inertia_)\n",
    "\n",
    "plt.plot(range(1, 11),\n",
    "         ss,\n",
    "         marker='o')\n",
    "\n",
    "plt.title(\"The Elbow Method\")\n",
    "plt.xlabel(\"Number of clusters\")\n",
    "plt.ylabel(\"SS\")\n",
    "\n",
    "plt.show()"
   ]
  },
  {
   "cell_type": "markdown",
   "id": "984ce953",
   "metadata": {},
   "source": [
    "### Silhouette method"
   ]
  },
  {
   "cell_type": "code",
   "execution_count": 39,
   "id": "4888b118",
   "metadata": {},
   "outputs": [
    {
     "data": {
      "image/png": "[encoded data removed]",
      "text/plain": [
       "<Figure size 432x288 with 1 Axes>"
      ]
     },
     "metadata": {},
     "output_type": "display_data"
    }
   ],
   "source": [
    "# Import silhouette_score class from sklearn.\n",
    "from sklearn.metrics import silhouette_score\n",
    "\n",
    "# Find the range of clusters to be used using silhouette method.\n",
    "sil = []\n",
    "kmax = 10\n",
    "\n",
    "for k in range(2, kmax+1):\n",
    "    kmeans_s = KMeans(n_clusters = k).fit(x)\n",
    "    labels = kmeans_s.labels_\n",
    "    sil.append(silhouette_score(x,\n",
    "                                labels,\n",
    "                                metric = 'euclidean'))\n",
    "\n",
    "# Plot the silhouette method.\n",
    "plt.plot(range(2, kmax+1),\n",
    "         sil,\n",
    "         marker='o')\n",
    "\n",
    "plt.title(\"The Silhouette Method\")\n",
    "plt.xlabel(\"Number of clusters\")\n",
    "plt.ylabel(\"Sil\")\n",
    "\n",
    "plt.show()"
   ]
  },
  {
   "cell_type": "markdown",
   "id": "f2ec2ebc",
   "metadata": {},
   "source": []
  },
  {
   "cell_type": "code",
   "execution_count": null,
   "id": "1b878317",
   "metadata": {},
   "outputs": [],
   "source": []
  }
 ],
 "metadata": {
  "kernelspec": {
   "display_name": "Python 3 (ipykernel)",
   "language": "python",
   "name": "python3"
  },
  "language_info": {
   "codemirror_mode": {
    "name": "ipython",
    "version": 3
   },
   "file_extension": ".py",
   "mimetype": "text/x-python",
   "name": "python",
   "nbconvert_exporter": "python",
   "pygments_lexer": "ipython3",
   "version": "3.9.12"
  }
 },
 "nbformat": 4,
 "nbformat_minor": 5
}
